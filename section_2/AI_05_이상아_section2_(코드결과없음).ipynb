{
 "cells": [
  {
   "cell_type": "markdown",
   "metadata": {},
   "source": [
    "# 1. 프로젝트 주제"
   ]
  },
  {
   "cell_type": "markdown",
   "metadata": {
    "id": "dtFXR4Afj3f6"
   },
   "source": [
    "### 어플평점 4점을 넘기위해 고려해야 할 사항에 대한 ML Project\n",
    "\n",
    "* 해결하고자하는 문제 : 어플 고평점 예측\n",
    "* 데이터 : 캐글의 2017년 7월 앱스토어 어플 통계데이터(7197개)\n",
    "* 선정이유\n",
    " * 코로나시국, 비대면 사회에서 가장 중요한 도구는 휴대폰이다.\n",
    " * 사용할 Target 특성은 4.5이상 평점을 받은 binary data로 분류문제이다.\n",
    " * 어떤 특징에 따라 고평점을 받을 수 있는지 없는지, 예측하는 모델링을 할 것이다."
   ]
  },
  {
   "cell_type": "markdown",
   "metadata": {},
   "source": [
    "# 2. 라이브러리 및 데이터 불러오기"
   ]
  },
  {
   "cell_type": "code",
   "execution_count": null,
   "metadata": {
    "colab": {
     "base_uri": "https://localhost:8080/"
    },
    "id": "hL6HKs9Xj9wa",
    "outputId": "0290250c-e98d-4064-de35-d273ccb11d5d",
    "scrolled": false
   },
   "outputs": [],
   "source": [
    "# 필요한 라이브러리들\n",
    "import pandas as pd\n",
    "import numpy as np\n",
    "import graphviz\n",
    "import matplotlib.pyplot as plt\n",
    "import eli5\n",
    "\n",
    "from category_encoders import OrdinalEncoder\n",
    "from catboost import CatBoostClassifier\n",
    "\n",
    "from eli5.sklearn import PermutationImportance\n",
    "\n",
    "from imblearn.over_sampling import SMOTE, SMOTENC\n",
    "\n",
    "from scipy.stats import boxcox, chi2_contingency\n",
    "\n",
    "from sklearn.model_selection import train_test_split ,GridSearchCV, RandomizedSearchCV, cross_val_score\n",
    "from sklearn.pipeline import Pipeline, make_pipeline\n",
    "from sklearn.impute import SimpleImputer\n",
    "from sklearn.ensemble import RandomForestClassifier, GradientBoostingClassifier\n",
    "from sklearn.preprocessing import StandardScaler\n",
    "from sklearn.metrics import classification_report, accuracy_score, recall_score, precision_score, f1_score, roc_curve, roc_auc_score\n",
    "from sklearn import tree, preprocessing\n",
    "from sklearn.utils import resample\n",
    "\n",
    "from pandas_profiling import ProfileReport\n",
    "\n",
    "from pdpbox.pdp import pdp_interact, pdp_interact_plot, pdp_isolate, pdp_plot"
   ]
  },
  {
   "cell_type": "code",
   "execution_count": null,
   "metadata": {
    "colab": {
     "base_uri": "https://localhost:8080/",
     "height": 461
    },
    "id": "OmtzKtcIkAw4",
    "outputId": "92d0e6bf-40ab-47f0-ea1f-fc0e433cded5",
    "scrolled": true
   },
   "outputs": [],
   "source": [
    "# https://www.kaggle.com/ramamet4/app-store-apple-data-set-10k-apps\n",
    "# Data collection date (from API); July 2017\n",
    "\n",
    "data = pd.read_csv('AppleStore.csv')\n",
    "data.head()"
   ]
  },
  {
   "cell_type": "code",
   "execution_count": null,
   "metadata": {
    "colab": {
     "base_uri": "https://localhost:8080/"
    },
    "id": "AldnifZvkWIk",
    "outputId": "58d24597-61c9-458b-945d-20b300115941"
   },
   "outputs": [],
   "source": [
    "data.shape"
   ]
  },
  {
   "cell_type": "markdown",
   "metadata": {},
   "source": [
    "### 특성별 설명(캐글)\n",
    "\n",
    "\"id\" : 앱 ID  \n",
    "\"track_name\": 앱 이름  \n",
    "\"size_bytes\": 크기(바이트)  \n",
    "\"currency\": 통화  \n",
    "\"price\": 가격  \n",
    "\"ratingcounttot\": 사용자 평가 수(모든 버전용)  \n",
    "\"ratingcountver\": 사용자 평가 수(현재 버전용)  \n",
    "\"user_rating\" : 평균 사용자 평가 값(모든 버전에 대해)  \n",
    "\"userratingver\": 평균 사용자 평가 값(현재 버전의 경우)  \n",
    "\"ver\" : 최신 버전 코드  \n",
    "\"cont_rating\": 콘텐츠 등급  \n",
    "\"prime_genre\": 기본 장르  \n",
    "\"sup_devices.num\": 지원 장치 수  \n",
    "\"ipadSc_urls.num\": 표현하기 위해 보여주는 스크린샷 수  \n",
    "\"lang.num\": 지원되는 언어 수  \n",
    "\"vpp_lic\": Vpp 장치기반 라이선스 사용  "
   ]
  },
  {
   "cell_type": "markdown",
   "metadata": {},
   "source": [
    "# 3. 가설, 기준모델(Baseline Model), 평가지표설명"
   ]
  },
  {
   "cell_type": "markdown",
   "metadata": {},
   "source": [
    "* 가설\n",
    "    * 가설1 : 소프트웨어산업 중 가장 높은 비율을 차지하는 장르가 추천할 확률도 가장 높을 것이다\n",
    "    * 가설2 : 가격의 영향력은 크기 때문에, 저렴하면 추천될 확률이 높을 것이다.\n",
    "* 기준모델 및 평가지표설명\n",
    " * Target 특성은 어플 평점이 4점을 넘으면 True로 표시하는 새로운 특성을 생성.\n",
    " * Baseline Model로는 초기 최빈값인 0.9214에서 RandomForest의 AUC Score로 변경하였다."
   ]
  },
  {
   "cell_type": "markdown",
   "metadata": {},
   "source": [
    "# 4. EDA, Data Preprocessing"
   ]
  },
  {
   "cell_type": "markdown",
   "metadata": {},
   "source": [
    "## 데이터를 아래와 같이 확인한 후, 함수로 전처리 및 EDA완료\n",
    "###  1) 불필요한 특성제거 및 특성이름정리\n",
    "\n",
    "* Currency특성에 다른 통화 유무 체크 => 전부 달러임을 확인  \n",
    "data['currency'].unique()  \n",
    "\n",
    "* 'Unnames: 0' 특성의 중복값여부체크 => 목차와 거의 동일하다 판단.(2개의 데이터가 다름)  \n",
    "data.duplicated('vpp_lic').sort_values(ascending=True)  \n",
    "\n",
    "* 컬럼의 단어 연결을 '.'을 '_'로 일관성있게 정리.\n",
    "\n",
    "\n",
    "### 2) data 정리  \n",
    "\n",
    "* 중복값여부체크 => 중복값이 데이터에 없음을 확인.  \n",
    "data.duplicated().sort_values  \n",
    "\n",
    "* 결측치유무확인->없음  \n",
    "pd.isnull(data).sum()  \n",
    "\n",
    "* ver 컬럼구성확인 -> 함수를 통해 int화함.  \n",
    "data['ver'].value_counts()\n",
    "\n",
    "* 어플이용 연령제한구성확인 -> 함수를 통해 int화함.  \n",
    "data['cont_rating'].unique()  \n",
    "\n",
    "* 장르별로 어플 구성 확인  \n",
    "data['prime_genre'].value_counts()\n",
    "\n",
    "* 대략적으로 데이터 구성내용 확인  \n",
    "from pandas_profiling import ProfileReport  \n",
    "profile = ProfileReport(data, minimal=True).to_notebook_iframe()  \n",
    "\n",
    "* 불필요한 컬럼 일괄 삭제"
   ]
  },
  {
   "cell_type": "code",
   "execution_count": null,
   "metadata": {},
   "outputs": [],
   "source": [
    "# ver 특성의 int화 위한 작업\n",
    "\n",
    "# 알파벳을 리스트화하기\n",
    "\n",
    "import string\n",
    "string.ascii_lowercase   # 'abcdefghijklmnopqrstuvwxyz'\n",
    "\n",
    "alphabet=list(string.ascii_letters)\n",
    "\n",
    "# ver 함수생성 (str로 이뤄진 버전을 인트화)\n",
    "def ver(value):\n",
    "    if value[0]=='v':\n",
    "        value = int(value[1])\n",
    "        return value\n",
    "    elif value[0]=='V':\n",
    "        value = int(value[1])\n",
    "        return value\n",
    "    elif (value[0]=='9') and (value[1]=='9'):\n",
    "        value = int(value[5])                 # 9999.2->버전2로간주\n",
    "        return value\n",
    "    else:                                     \n",
    "        value = value[0]                      \n",
    "        if value in alphabet:                 # 문자열이 있으면 0으로 변환\n",
    "            value = int(0)\n",
    "            return value\n",
    "        else:\n",
    "            value = int(value)                # 문자열이 없다면 int로 변환\n",
    "            return value\n",
    "\n",
    "# int 함수생성\n",
    "def int_make(value):\n",
    "    return int(value)"
   ]
  },
  {
   "cell_type": "code",
   "execution_count": null,
   "metadata": {},
   "outputs": [],
   "source": [
    "# EDA AND Feature Engineering\n",
    "\n",
    "def Feature_engineering(df):\n",
    "    \n",
    "    # 컬럼이름정리 ('.')->('_')\n",
    "    df.columns = ['Unnamed: 0', 'id', 'track_name', 'size_bytes', 'currency', 'price', 'rating_count_tot',\n",
    "                'rating_count_ver', 'user_rating_tot', 'user_rating_ver','ver', 'cont_rating', 'prime_genre', \n",
    "                'sup_devices_num', 'ipadSc_urls_num', 'lang_num', 'vpp_lic']\n",
    "\n",
    "    # ver column int로 변경\n",
    "    df['ver'] = df['ver'].apply(ver)\n",
    "    \n",
    "    # ver이 0이 아닌 것만 가져오기 =>value_counts()로 32개임을 확인했으나, 큰 의미가 없다 판단하여 제거함\n",
    "    df = df[df.ver != 0]\n",
    "    \n",
    "    # cont_rating(연령) 안에 '+' 지우고, int화하기\n",
    "    df['cont_rating'] = df['cont_rating'].str.split('+').str[0].apply(int_make)    \n",
    "    \n",
    "    # 'user_rating_tot'이 0이면 이상치로 봐서 해당 row 삭제 \n",
    "    # (모든 버전에 대한 사용자평가인데, 어떤 회사라도 1개라도 있어야할텐데, 점수가 없다면 만들어진지 얼마 안된 어플일 것이라 간주하고 928개이지만 삭제함)\n",
    "    df[df['user_rating_tot'] == 0.0]\n",
    "    df = df[df.user_rating_tot > 0]\n",
    "    \n",
    "    # recommendation 타겟이 될 특성을 만들어 이진분류문제로 만듦.\n",
    "    df['recommendation'] = (df['user_rating_tot']>4.5).astype(int) # True:1, False:0. 원하는 정수로 바꾸려면.replace({True:1,False:2})\n",
    "\n",
    "    # 불필요한 5개 컬럼 삭제\n",
    "    df = df.drop(['currency','Unnamed: 0', 'id','user_rating_ver', 'rating_count_ver'],axis=1)\n",
    "\n",
    "    return df\n",
    "data = Feature_engineering(data)\n",
    "data.head()"
   ]
  },
  {
   "cell_type": "code",
   "execution_count": null,
   "metadata": {
    "scrolled": true
   },
   "outputs": [],
   "source": [
    "data.info()"
   ]
  },
  {
   "cell_type": "code",
   "execution_count": null,
   "metadata": {
    "scrolled": true
   },
   "outputs": [],
   "source": [
    "# High Cardinality 확인. track_name의 카디널리티가 높다. (unique가 높다)  \n",
    "data.describe(exclude='number').T.sort_values(by='unique')  "
   ]
  },
  {
   "cell_type": "code",
   "execution_count": null,
   "metadata": {},
   "outputs": [],
   "source": [
    "# 어플 이름이 같은 것이 있는지 확인\n",
    "data[data['track_name'].duplicated(keep=False)==True]  "
   ]
  },
  {
   "cell_type": "code",
   "execution_count": null,
   "metadata": {},
   "outputs": [],
   "source": [
    "data.shape"
   ]
  },
  {
   "cell_type": "code",
   "execution_count": null,
   "metadata": {},
   "outputs": [],
   "source": [
    "# rating_count_tot이 적은것들 기준으로 삭제\n",
    "data.drop(index=[7128], inplace=True)"
   ]
  },
  {
   "cell_type": "code",
   "execution_count": null,
   "metadata": {},
   "outputs": [],
   "source": [
    "data.shape"
   ]
  },
  {
   "cell_type": "markdown",
   "metadata": {},
   "source": [
    "## 3) 데이터분포확인"
   ]
  },
  {
   "cell_type": "code",
   "execution_count": null,
   "metadata": {
    "colab": {
     "base_uri": "https://localhost:8080/",
     "height": 369
    },
    "id": "5LssJMMXj0Wb",
    "outputId": "85f9253c-81c1-4301-d9d6-5c7497dd1126",
    "scrolled": true
   },
   "outputs": [],
   "source": [
    "# 데이터 분포확인\n",
    "import seaborn as sns\n",
    "import matplotlib.pyplot as plt\n",
    "sns.displot(data['user_rating_tot'],kde=True);\n",
    "plt.axvline(4, color='red'); "
   ]
  },
  {
   "cell_type": "code",
   "execution_count": null,
   "metadata": {
    "scrolled": true
   },
   "outputs": [],
   "source": [
    "# 실제 평균점수보다 높은 어플은 몇개인가? True+False = 6268 => True와 False의 비율이 비슷해서 타겟 balance가 좋음.\n",
    "print(data['recommendation'].value_counts())\n",
    "\n",
    "print(data['recommendation'].value_counts(normalize=True))"
   ]
  },
  {
   "cell_type": "code",
   "execution_count": null,
   "metadata": {
    "scrolled": false
   },
   "outputs": [],
   "source": [
    "# recommendation의 imbalance 확인\n",
    "\n",
    "%matplotlib inline\n",
    "import seaborn as sns\n",
    "sns.countplot(data['recommendation']);"
   ]
  },
  {
   "cell_type": "markdown",
   "metadata": {},
   "source": [
    "* 최빈값인 0.9214를 초기 정확도 Baseline으로 잡아둔다.\n",
    "* scale_pos_weight을 위해 ratio를 계산해둔다.\n",
    "* Hyperparameter tuning만으로 부족하다면 smote도 고려해둔다."
   ]
  },
  {
   "cell_type": "code",
   "execution_count": null,
   "metadata": {
    "scrolled": true
   },
   "outputs": [],
   "source": [
    "# scale_pos_weight을 위한 ratio\n",
    "ratio0 = data['recommendation'].value_counts(normalize=True)[0]\n",
    "ratio0"
   ]
  },
  {
   "cell_type": "code",
   "execution_count": null,
   "metadata": {
    "scrolled": true
   },
   "outputs": [],
   "source": [
    "ratio1 = data['recommendation'].value_counts(normalize=True)[1]\n",
    "ratio1"
   ]
  },
  {
   "cell_type": "code",
   "execution_count": null,
   "metadata": {},
   "outputs": [],
   "source": [
    "ratio = ratio1/ratio0\n",
    "ratio"
   ]
  },
  {
   "cell_type": "code",
   "execution_count": null,
   "metadata": {},
   "outputs": [],
   "source": [
    "data['user_rating_tot'].value_counts()"
   ]
  },
  {
   "cell_type": "code",
   "execution_count": null,
   "metadata": {},
   "outputs": [],
   "source": [
    "data['rating_count_tot'].value_counts()"
   ]
  },
  {
   "cell_type": "code",
   "execution_count": null,
   "metadata": {
    "scrolled": true
   },
   "outputs": [],
   "source": [
    "# recommendation 특성 만들고 기반이 된 user_rating_tot, high cardinality인 track_name 제거\n",
    "data.drop(['user_rating_tot','track_name'], axis=1, inplace=True)\n",
    "\n",
    "# data reset_index\n",
    "data = data.reset_index(drop=True)\n",
    "data.head()"
   ]
  },
  {
   "cell_type": "code",
   "execution_count": null,
   "metadata": {},
   "outputs": [],
   "source": [
    "# 특성간 상관관계 시각화\n",
    "new = data['recommendation']\n",
    "trainn = data.drop(['recommendation'],axis=1)\n",
    "trainn = pd.concat([new,trainn], axis=1)\n",
    "plt.figure(figsize=(10,10))\n",
    "sns.heatmap(data=trainn.corr(), annot=True, fmt='.2f', linewidths=.5, cmap='Blues');"
   ]
  },
  {
   "cell_type": "markdown",
   "metadata": {},
   "source": [
    "* 특성들간 상관관계가 높음이 확인되지 않음."
   ]
  },
  {
   "cell_type": "code",
   "execution_count": null,
   "metadata": {},
   "outputs": [],
   "source": [
    "# recommendation True로 나온 특성별 분포확인\n",
    "recommendd = trainn[trainn.recommendation == True]\n",
    "print(recommendd.shape)\n"
   ]
  },
  {
   "cell_type": "code",
   "execution_count": null,
   "metadata": {},
   "outputs": [],
   "source": [
    "# recommendation True로 나온 특성별 분포확인\n",
    "\n",
    "for i in trainn.columns:\n",
    "    sns.displot(recommendd[i],kde=True) # kde : 커널밀도추정. 커널함수와 데이터를 바탕으로 연속성있는 확률밀도함수를 추정하는것."
   ]
  },
  {
   "cell_type": "markdown",
   "metadata": {},
   "source": [
    "### 가설1 소프트웨어산업 중 가장 높은 비율을 차지하는 장르가 추천할 확률도 가장 높을 것이다"
   ]
  },
  {
   "cell_type": "code",
   "execution_count": null,
   "metadata": {},
   "outputs": [],
   "source": [
    "# 장르별 2021년 7월 어플비중비율\n",
    "\n",
    "plt.rcParams['font.family'] = 'NanumGothic'\n",
    "plt.rcParams['font.size'] = 15\n",
    "\n",
    "pie, ax = plt.subplots(figsize=[10,10])\n",
    "plt.title(\"2021년 7월 어플 장르별 비율\", fontsize=30);\n",
    "\n",
    "# define data\n",
    "data_by_genre=data['prime_genre'].value_counts()\n",
    "labels=data['prime_genre'].value_counts().index\n",
    "\n",
    "colors = sns.color_palette('pastel')\n",
    "\n",
    "#create pie chart\n",
    "plt.pie(data_by_genre, labels = labels, colors = colors, autopct='%.0f%%')\n",
    "plt.show()"
   ]
  },
  {
   "cell_type": "code",
   "execution_count": null,
   "metadata": {},
   "outputs": [],
   "source": [
    "# 어플이용자 중 많은 비율이 게임이므로, 게임의 추천비율이 많을 것이다.\n",
    "\n",
    "good = data[data.recommendation==1]\n",
    "\n",
    "# 장르별 2021년 7월 어플비중비율\n",
    "\n",
    "plt.rcParams['font.family'] = 'NanumGothic'\n",
    "plt.rcParams['font.size'] = 15\n",
    "\n",
    "pie, ax = plt.subplots(figsize=[10,10])\n",
    "plt.title(\"추천된 어플 장르별 비율\", fontsize=30);\n",
    "\n",
    "# define data\n",
    "data_by_genre=good['prime_genre'].value_counts()\n",
    "labels=data['prime_genre'].value_counts().index\n",
    "\n",
    "colors = sns.color_palette('pastel')\n",
    "\n",
    "#create pie chart\n",
    "plt.pie(data_by_genre, labels = labels, colors = colors, autopct='%.0f%%')\n",
    "plt.show()"
   ]
  },
  {
   "cell_type": "code",
   "execution_count": null,
   "metadata": {},
   "outputs": [],
   "source": [
    "# 어플이용자 중 많은 비율이 게임이므로, 게임의 추천비율이 많을 것이다.\n",
    "\n",
    "bad = data[data.recommendation==0]\n",
    "\n",
    "# 장르별 2021년 7월 어플비중비율\n",
    "\n",
    "plt.rcParams['font.family'] = 'NanumGothic'\n",
    "plt.rcParams['font.size'] = 15\n",
    "\n",
    "pie, ax = plt.subplots(figsize=[10,10])\n",
    "plt.title(\"추천되지 않은 어플 장르별 비율\", fontsize=30);\n",
    "\n",
    "# define data\n",
    "data_by_genre=bad['prime_genre'].value_counts()\n",
    "labels=data['prime_genre'].value_counts().index\n",
    "\n",
    "colors = sns.color_palette('pastel')\n",
    "\n",
    "#create pie chart\n",
    "plt.pie(data_by_genre, labels = labels, colors = colors, autopct='%.0f%%')\n",
    "plt.show()"
   ]
  },
  {
   "cell_type": "code",
   "execution_count": null,
   "metadata": {
    "scrolled": true
   },
   "outputs": [],
   "source": [
    "# 실제 총 데이터 중 추천비율을 보자 => 게임의 추천이 가장 높긴 하지만, 비추천은 훨씬 높음을 확인.\n",
    "\n",
    "obs = pd.crosstab(data['prime_genre'],data['recommendation'])\n",
    "obs\n",
    "\n",
    "import matplotlib.pyplot as plt\n",
    "%matplotlib inline\n",
    "\n",
    "ax = obs.plot(kind='bar', title='recommendation by genre1', figsize=(8, 6))\n",
    "ax.set_ylabel('count')\n",
    "plt.grid(color='darkgray')\n",
    "plt.show()"
   ]
  },
  {
   "cell_type": "code",
   "execution_count": null,
   "metadata": {},
   "outputs": [],
   "source": [
    "# 장르별 추천비율\n",
    "\n",
    "obs['ratio'] = obs[1]/(obs[1]+obs[0])\n",
    "obss = obs.drop([0,1],axis=1)\n",
    "\n",
    "import matplotlib.pyplot as plt\n",
    "%matplotlib inline\n",
    "\n",
    "ax = obss.plot(kind='bar', title='recommendation ratio by genre2', figsize=(8, 6))\n",
    "ax.set_ylabel('count')\n",
    "plt.grid(color='darkgray')\n",
    "plt.show()\n"
   ]
  },
  {
   "cell_type": "markdown",
   "metadata": {},
   "source": [
    "* 어플 장르에 게임이 차지하는 비율이 압도적으로 높다.\n",
    "* 전체를 기준으로 추천율, 비추천율을 장르별로 구분하여도 게임이 다른 장르에 비해서 모두 높다.\n",
    "* 마지막 그래프인 recommendation ratio by genre2를 보면, 게임의 점유율과 무관하게 추천율은 높지 않음을 확인할 수 있으며, 가장 추천율이 높은 장르는 Book으로 확인하였다."
   ]
  },
  {
   "cell_type": "markdown",
   "metadata": {},
   "source": [
    "### 가설 2 : 가격의 영향력은 크기 때문에, 저렴하면 추천될 확률이 높을 것이다."
   ]
  },
  {
   "cell_type": "code",
   "execution_count": null,
   "metadata": {},
   "outputs": [],
   "source": [
    "# 추천된것 중 가격비교함.\n",
    "\n",
    "good = data[data.recommendation==1]\n",
    "good.shape\n",
    "\n",
    "good_by_price = good['price'].value_counts().reset_index().rename(columns={'index':'price','price':'count'})\n",
    "\n",
    "plt.figure(figsize=(10,10))\n",
    "sns.barplot(x='price',y='count',data=good_by_price)\n",
    "plt.title('가격기준 추천 수',fontsize=20);"
   ]
  },
  {
   "cell_type": "code",
   "execution_count": null,
   "metadata": {},
   "outputs": [],
   "source": [
    "# 실제 총 데이터 중 추천비율을 보자 => 무료의 비중이 가장 높긴 하지만, 비추천은 훨씬 높음을 확인.\n",
    "\n",
    "obs2 = pd.crosstab(data['price'],data['recommendation'])\n",
    "obs2\n",
    "\n",
    "import matplotlib.pyplot as plt\n",
    "%matplotlib inline\n",
    "\n",
    "ax = obs2.plot(kind='bar', title='recommendation by price', figsize=(8, 6))\n",
    "ax.set_ylabel('count')\n",
    "plt.grid(color='darkgray')\n",
    "plt.show()\n"
   ]
  },
  {
   "cell_type": "code",
   "execution_count": null,
   "metadata": {
    "scrolled": true
   },
   "outputs": [],
   "source": [
    "# 가격별 추천비율\n",
    "\n",
    "obs2['ratio'] = obs2[1]/(obs2[1]+obs2[0])\n",
    "obs3 = obs2.drop([0,1],axis=1)\n",
    "\n",
    "import matplotlib.pyplot as plt\n",
    "%matplotlib inline\n",
    "\n",
    "ax = obs3.plot(kind='bar', title='recommendation ratio by price', figsize=(8, 6))\n",
    "ax.set_ylabel('count')\n",
    "plt.grid(color='darkgray')\n",
    "plt.show()\n"
   ]
  },
  {
   "cell_type": "code",
   "execution_count": null,
   "metadata": {
    "scrolled": true
   },
   "outputs": [],
   "source": [
    "data[data['price']==18.99]"
   ]
  },
  {
   "cell_type": "code",
   "execution_count": null,
   "metadata": {},
   "outputs": [],
   "source": [
    "data[data['price']==23.99]"
   ]
  },
  {
   "cell_type": "markdown",
   "metadata": {},
   "source": [
    "* 추천과 비추천의 데이터 수가 무료에 다른 가격에 비해 많고, 추천과 비추천 모두 가격이 적을수록 수치가 높았다.\n",
    "* 큰 의미가 없다 판단하여 각 가격별로 추천비율을 구했을 때, 18.99달러와 23.99달러의 추천율이 1로, 데이터가 하나씩있는 이상치임을 확인하였다.\n",
    "* 해당 가설은 큰 의미가 없는 것으로 판단한다."
   ]
  },
  {
   "cell_type": "markdown",
   "metadata": {},
   "source": [
    "# 5. Modeling"
   ]
  },
  {
   "cell_type": "markdown",
   "metadata": {},
   "source": [
    "### 모델의 유용성과 한계\n",
    "\n",
    "* 목적 : 만들고자 하는 모델의 경우 어떤 특성을 가진 어플이 4.5이상의 추천을 받을 수 있는지 예측\n",
    "* 유용성 : 어플을 사용하려는 고객은 추천여부를 알 수 있고, 앱스토어 자체에서 추천하는 항목으로 될 수 있기에 판매자에게도 유용할 것이다.\n",
    "* 한계 : \n",
    " 1. 악의적으로 저점을 받는 어플은 추천할 수 있는 가능성을 상실할 수 있다.\n",
    " 2. paid/Free의 구분이 어플구입시 기준으로 나뉘는데, 시범기간 이후 유료화로 변하기도하고, 무료버전이라하더라도 유료를 해야 가능한 서비스가 있다면 구분이 모호하다 할 수 있다.\n",
    " 3. 데이터가 2021/7월 한 달치로 부족할 수 있으나, 특별한 어플들이 많이 나오지 않은 이상, 특징은 크게 다르지 않을 것이라 판단한다."
   ]
  },
  {
   "cell_type": "markdown",
   "metadata": {},
   "source": [
    "## 1) 1차 모델링(RandomForest), 기준모델"
   ]
  },
  {
   "cell_type": "code",
   "execution_count": null,
   "metadata": {
    "scrolled": true
   },
   "outputs": [],
   "source": [
    "# 훈련/검증/테스트셋 나누기\n",
    "\n",
    "train, test = train_test_split(data, test_size=0.2, random_state=2)\n",
    "train, val = train_test_split(train, test_size=0.2, random_state=2)\n",
    "\n",
    "target = 'recommendation'\n",
    "features = data.columns.drop([target])\n",
    "\n",
    "X_train = train[features]\n",
    "y_train = train[target]\n",
    "X_val = val[features]\n",
    "y_val = val[target]\n",
    "X_test = test[features]\n",
    "y_test = test[target]\n",
    "\n",
    "train.shape, val.shape, test.shape"
   ]
  },
  {
   "cell_type": "code",
   "execution_count": null,
   "metadata": {
    "scrolled": true
   },
   "outputs": [],
   "source": [
    "# randomforest_ordinal encoding\n",
    "\n",
    "pipe_rf_o = make_pipeline(\n",
    "    OrdinalEncoder(), # 범주형 자료를 모델링할 때는 원핫보다 오디널이 좋음! 중요한 노드가 상위에서 선택되어야하는데 원핫을하면 적용이 잘 안됨! 한가지 특성이 여러가지로 나눠지기 때문에! 그래서 노미널인코딩이라도 오디널을 사용함! 트리에서는 순서가 상관없어서 괜찮다!\n",
    "    RandomForestClassifier())\n",
    "\n",
    "pipe_rf_o.fit(X_train, y_train)\n",
    "y_pred = pipe_rf_o.predict(X_val)\n",
    "\n",
    "print('훈련 정확도', pipe_rf_o.score(X_train,y_train))\n",
    "print('검증 정확도', pipe_rf_o.score(X_val, y_val))\n",
    "print('F1 score', f1_score(y_val, y_pred))\n",
    "print('AUC 점수 :', roc_auc_score(y_val, y_pred))\n",
    "print('REPORT',classification_report(y_val, y_pred))"
   ]
  },
  {
   "cell_type": "markdown",
   "metadata": {},
   "source": [
    "* Ordinal Encoder로 RandomForest를 이용해서 1차 Baseline Modeling을 진행했다.\n",
    "* 기본적인 모델링으로 특별한 Parameter없이 진행했으며, 훈련정확도가 1로 과적합임을 확인하였다.\n",
    "* 하지만 검증 Set에서의 정확도가 최빈값 Baseline을 넘었으므로 이번 Modeling에서 유심히 볼 평가지표인 'AUC Score'를 Baseline으로 두고 진행한다.\n",
    "* Target의 imbalance함이 score에 영향을 주어 소수인 '1'에 대한 score는 전체적으로 낮은데, 밸런스화가 이번 모델링의 핵심으로 보인다.\n",
    "* 추후 SMOTE를 적용하면 얼마나 성능이 좋아질 지 확인해보기로 한다."
   ]
  },
  {
   "cell_type": "code",
   "execution_count": null,
   "metadata": {
    "scrolled": true
   },
   "outputs": [],
   "source": [
    "from sklearn.metrics import plot_confusion_matrix\n",
    "import matplotlib.pyplot as plt\n",
    "\n",
    "fig, ax = plt.subplots()\n",
    "pcm = plot_confusion_matrix(pipe_rf_o, X_val, y_val,\n",
    "                            cmap=plt.cm.Blues,\n",
    "                            ax=ax);\n",
    "plt.title(f'Confusion matrix, n = {len(y_val)}', fontsize=15)\n",
    "plt.show()"
   ]
  },
  {
   "cell_type": "code",
   "execution_count": null,
   "metadata": {},
   "outputs": [],
   "source": [
    "tp = 5\n",
    "tn = 919\n",
    "fp = 5\n",
    "fn = 69\n",
    "total = tp+tn+fp+fn"
   ]
  },
  {
   "cell_type": "code",
   "execution_count": null,
   "metadata": {
    "scrolled": false
   },
   "outputs": [],
   "source": [
    "y_train.value_counts(normalize=True)[1]"
   ]
  },
  {
   "cell_type": "markdown",
   "metadata": {},
   "source": [
    "## 2) 2차 모델링 (CatBoost)"
   ]
  },
  {
   "cell_type": "code",
   "execution_count": null,
   "metadata": {},
   "outputs": [],
   "source": [
    "# catboost, ordinalencoder\n",
    "\n",
    "pipe_cat_o = make_pipeline(\n",
    "    OrdinalEncoder(), # 범주형 자료를 모델링할 때는 원핫보다 오디널이 좋음! 중요한 노드가 상위에서 선택되어야하는데 원핫을하면 적용이 잘 안됨! 한가지 특성이 여러가지로 나눠지기 때문에! 그래서 노미널인코딩이라도 오디널을 사용함! 트리에서는 순서가 상관없어서 괜찮다!\n",
    "    CatBoostClassifier())\n",
    "\n",
    "pipe_cat_o.fit(X_train, y_train)\n",
    "y_pred = pipe_cat_o.predict(X_val)\n",
    "\n",
    "print('훈련 정확도', pipe_cat_o.score(X_train,y_train))\n",
    "print('검증 정확도', pipe_cat_o.score(X_val, y_val))\n",
    "print('F1 score', f1_score(y_val, y_pred))\n",
    "print('AUC 점수 :', roc_auc_score(y_val, y_pred))\n",
    "print('REPORT',classification_report(y_val, y_pred))"
   ]
  },
  {
   "cell_type": "markdown",
   "metadata": {},
   "source": [
    "## 3) Hyper Parameter Tuning the RandomForest with SMOTE"
   ]
  },
  {
   "cell_type": "code",
   "execution_count": null,
   "metadata": {},
   "outputs": [],
   "source": [
    "###### pipe라인 랜덤포레스트 모델의 파라미터튜닝\n",
    "pipe = make_pipeline(\n",
    "      OrdinalEncoder(),\n",
    "      RandomForestClassifier(random_state=2))\n",
    "\n",
    "# 튜닝할 하이퍼파라미터의 범위를 지정\n",
    "parameters = {'randomforestclassifier__max_depth': range(1, 5, 2), \n",
    "              'randomforestclassifier__max_features': range(1, 5, 2), \n",
    "              'randomforestclassifier__min_samples_leaf' : range(1, 5, 2)}\n",
    "    \n",
    "# 최적의 hyper parameter를 찾기 위한 RandomizedSearchCV\n",
    "rf_classifier = RandomizedSearchCV(pipe, \n",
    "                                    param_distributions=parameters, #  param_distributions : 사전/사전목록\n",
    "                                    n_iter=10, # 정수, 기본값=10\n",
    "                                    cv=5, # 교차검증생성기 또는 반복가능 default=None\n",
    "                                    scoring='accuracy', # 평가방법\n",
    "                                    verbose=1) # 진행상황표시. 높을수록 더 많은 메세지표시.\n",
    "rf_classifier.fit(X_train, y_train);"
   ]
  },
  {
   "cell_type": "code",
   "execution_count": null,
   "metadata": {},
   "outputs": [],
   "source": [
    "# RandomSearchCV 결과 확인\n",
    "print('Best Parameters: ', rf_classifier.best_params_)\n",
    "print('검증정확도: ', rf_classifier.best_score_)"
   ]
  },
  {
   "cell_type": "markdown",
   "metadata": {},
   "source": [
    "### (1) RandomForest with SMOTE1"
   ]
  },
  {
   "cell_type": "code",
   "execution_count": null,
   "metadata": {
    "scrolled": true
   },
   "outputs": [],
   "source": [
    "# sampling_strategy=1.0\n",
    "\n",
    "# 인코딩\n",
    "encoder = OrdinalEncoder()\n",
    "dataaa=encoder.fit_transform(data)\n",
    "\n",
    "# 훈련/검증/테스트셋 나누기\n",
    "\n",
    "train, test = train_test_split(dataaa, test_size=0.2, random_state=2)\n",
    "train, val = train_test_split(train, test_size=0.2, random_state=2)\n",
    " \n",
    "target = 'recommendation'\n",
    "features = dataaa.columns.drop([target])\n",
    "\n",
    "X_train = train[features]\n",
    "y_train = train[target]\n",
    "X_val = val[features]\n",
    "y_val = val[target]\n",
    "X_test = test[features]\n",
    "y_test = test[target]\n",
    "\n",
    "# smote 적용\n",
    "sm = SMOTE(random_state=2, sampling_strategy=1.0) # sampling_strategy = 'minority'\n",
    "X_train, y_train = sm.fit_resample(X_train, y_train)\n",
    "\n",
    "# Hyperparameter 적용\n",
    "smote = RandomForestClassifier(random_state=2, min_samples_leaf=1, max_features=1, max_depth=1).fit(X_train,y_train)\n",
    "smote_pred=smote.predict(X_val)\n",
    "\n",
    "print('훈련 정확도', smote.score(X_train, y_train))\n",
    "print('검증 정확도', smote.score(X_val, y_val))\n",
    "print('f1 스코어',f1_score(y_val, smote_pred))\n",
    "print('auc점수 : ', roc_auc_score(y_val, smote_pred))\n",
    "print('Report \\n',classification_report(y_val, smote_pred))"
   ]
  },
  {
   "cell_type": "markdown",
   "metadata": {},
   "source": [
    "### (2) RandomForest with SMOTE2"
   ]
  },
  {
   "cell_type": "code",
   "execution_count": null,
   "metadata": {
    "scrolled": true
   },
   "outputs": [],
   "source": [
    "# sampling_strategy=1.0, class_weight\n",
    "\n",
    "# 훈련/검증/테스트셋 나누기\n",
    "\n",
    "train, test = train_test_split(dataaa, test_size=0.2, random_state=2)\n",
    "train, val = train_test_split(train, test_size=0.2, random_state=2)\n",
    " \n",
    "target = 'recommendation'\n",
    "features = dataaa.columns.drop([target])\n",
    "\n",
    "X_train = train[features]\n",
    "y_train = train[target]\n",
    "X_val = val[features]\n",
    "y_val = val[target]\n",
    "X_test = test[features]\n",
    "y_test = test[target]\n",
    "\n",
    "# smote 적용\n",
    "sm = SMOTE(random_state=2, sampling_strategy=1.0) # sampling_strategy = 'minority'\n",
    "X_train, y_train = sm.fit_resample(X_train, y_train)\n",
    "\n",
    "# classweight, Hyperparameter 적용\n",
    "smote = RandomForestClassifier(class_weight={0:ratio0,1:ratio1}, random_state=2, min_samples_leaf=1, max_features=1, max_depth=1).fit(X_train,y_train)\n",
    "smote_pred=smote.predict(X_val)\n",
    "\n",
    "print('훈련 정확도', smote.score(X_train, y_train))\n",
    "print('검증 정확도', smote.score(X_val, y_val))\n",
    "print('f1 스코어',f1_score(y_val, smote_pred))\n",
    "print('auc점수 : ', roc_auc_score(y_val, smote_pred))\n",
    "print('Report \\n',classification_report(y_val, smote_pred))"
   ]
  },
  {
   "cell_type": "markdown",
   "metadata": {},
   "source": [
    "### (3) RandomForest with SMOTE3"
   ]
  },
  {
   "cell_type": "code",
   "execution_count": null,
   "metadata": {
    "scrolled": true
   },
   "outputs": [],
   "source": [
    "# class_weight\n",
    "\n",
    "# 훈련/검증/테스트셋 나누기\n",
    "\n",
    "train, test = train_test_split(dataaa, test_size=0.2, random_state=2)\n",
    "train, val = train_test_split(train, test_size=0.2, random_state=2)\n",
    " \n",
    "target = 'recommendation'\n",
    "features = dataaa.columns.drop([target])\n",
    "\n",
    "X_train = train[features]\n",
    "y_train = train[target]\n",
    "X_val = val[features]\n",
    "y_val = val[target]\n",
    "X_test = test[features]\n",
    "y_test = test[target]\n",
    "\n",
    "# smote 적용\n",
    "sm = SMOTE(random_state=2)\n",
    "X_train, y_train = sm.fit_resample(X_train, y_train)\n",
    "\n",
    "# classweight, Hyperparameter 적용\n",
    "smote = RandomForestClassifier(class_weight={0:ratio0,1:ratio1}, random_state=2, min_samples_leaf=1, max_features=1, max_depth=1).fit(X_train,y_train)\n",
    "smote_pred=smote.predict(X_val)\n",
    "\n",
    "print('훈련 정확도', smote.score(X_train, y_train))\n",
    "print('검증 정확도', smote.score(X_val, y_val))\n",
    "print('f1 스코어',f1_score(y_val, smote_pred))\n",
    "print('auc점수 : ', roc_auc_score(y_val, smote_pred))\n",
    "print('Report \\n',classification_report(y_val, smote_pred))"
   ]
  },
  {
   "cell_type": "markdown",
   "metadata": {},
   "source": [
    "### RandomForest의 Smote 및 Hyperparameter tuning 결과\n",
    "* RandomizedSearchCV를 이용하여 hyper parameter를 적용하고, imbalance를 살펴보기로 한다.\n",
    "* RandomForest의 경우 Hyperparameter에 class_weight={0:ratio0,1:ratio1}를 사용시, AUC score가 0.5이다.\n",
    "* 소수인 ‘1’에 해당하는 metric socre가 반영이 되지 않았기 때문이다. \n",
    "* RandomForest의 class_weight을 제외하고, smote의 parameter인 sampling_strategy=1 만 적용한 첫번째 모델이 AUC가 0.57로 가장 훌륭하다."
   ]
  },
  {
   "cell_type": "markdown",
   "metadata": {},
   "source": [
    "## 4) Hyper Parameter Tuning the CatBoost with SMOTE"
   ]
  },
  {
   "cell_type": "code",
   "execution_count": null,
   "metadata": {},
   "outputs": [],
   "source": [
    "train, test = train_test_split(dataaa, test_size=0.2, random_state=2)\n",
    "train, val = train_test_split(train, test_size=0.2, random_state=2)\n",
    "\n",
    "target = 'recommendation'\n",
    "features = data.columns.drop([target])\n",
    "\n",
    "X_train = train[features]\n",
    "y_train = train[target]\n",
    "X_val = val[features]\n",
    "y_val = val[target]\n",
    "X_test = test[features]\n",
    "y_test = test[target]\n",
    "\n",
    "model = CatBoostClassifier(random_state=2)\n",
    "\n",
    "grid = {'learning_rate': [0.03, 0.1],\n",
    "        'max_depth': [4, 6, 10],\n",
    "        'l2_leaf_reg': [1, 3, 5, 7, 9]}\n",
    "\n",
    "randomized_search_result = model.randomized_search(grid, X=X_train, y=y_train, plot=True)"
   ]
  },
  {
   "cell_type": "code",
   "execution_count": null,
   "metadata": {},
   "outputs": [],
   "source": [
    "print(randomized_search_result)"
   ]
  },
  {
   "cell_type": "markdown",
   "metadata": {},
   "source": [
    "### (1) CatBoost with SMOTE1"
   ]
  },
  {
   "cell_type": "code",
   "execution_count": null,
   "metadata": {},
   "outputs": [],
   "source": [
    "# 합성샘플생성1 (smote1) CatBoost sampling\n",
    "\n",
    "\n",
    "# 훈련/검증/테스트셋 나누기\n",
    "\n",
    "train, test = train_test_split(dataaa, test_size=0.2, random_state=2)\n",
    "train, val = train_test_split(train, test_size=0.2, random_state=2)\n",
    " \n",
    "target = 'recommendation'\n",
    "features = dataaa.columns.drop([target])\n",
    "\n",
    "X_train = train[features]\n",
    "y_train = train[target]\n",
    "X_val = val[features]\n",
    "y_val = val[target]\n",
    "X_test = test[features]\n",
    "y_test = test[target]\n",
    "\n",
    "# smote 적용\n",
    "sm = SMOTE(random_state=2, sampling_strategy=1.0) # sampling_strategy = 'minority'\n",
    "X_train, y_train = sm.fit_resample(X_train, y_train)\n",
    "\n",
    "smote = CatBoostClassifier(random_state=2,depth=6, l2_leaf_reg=5, learning_rate=0.1).fit(X_train,y_train)\n",
    "smote_pred=smote.predict(X_val)\n",
    "\n",
    "print('훈련 정확도', smote.score(X_train, y_train))\n",
    "print('검증 정확도', smote.score(X_val, y_val))\n",
    "print('f1 스코어',f1_score(y_val, smote_pred))\n",
    "print('auc점수 : ', roc_auc_score(y_val, smote_pred))\n",
    "print('Report \\n',classification_report(y_val, smote_pred))"
   ]
  },
  {
   "cell_type": "markdown",
   "metadata": {},
   "source": [
    "### (2) CatBoost with SMOTE2"
   ]
  },
  {
   "cell_type": "code",
   "execution_count": null,
   "metadata": {},
   "outputs": [],
   "source": [
    "# sampling_strategy, Class_weights\n",
    "\n",
    "# 훈련/검증/테스트셋 나누기\n",
    "\n",
    "train, test = train_test_split(dataaa, test_size=0.2, random_state=2)\n",
    "train, val = train_test_split(train, test_size=0.2, random_state=2)\n",
    " \n",
    "target = 'recommendation'\n",
    "features = dataaa.columns.drop([target])\n",
    "\n",
    "X_train = train[features]\n",
    "y_train = train[target]\n",
    "X_val = val[features]\n",
    "y_val = val[target]\n",
    "X_test = test[features]\n",
    "y_test = test[target]\n",
    "\n",
    "# smote 적용\n",
    "sm = SMOTE(random_state=2, sampling_strategy=1.0) # sampling_strategy = 'minority'\n",
    "X_train, y_train = sm.fit_resample(X_train, y_train)\n",
    "\n",
    "smote = CatBoostClassifier(class_weights={0:ratio0,1:ratio1}, random_state=2,depth=6, l2_leaf_reg=5, learning_rate=0.1).fit(X_train,y_train)\n",
    "smote_pred=smote.predict(X_val)\n",
    "\n",
    "print('훈련 정확도', smote.score(X_train, y_train))\n",
    "print('검증 정확도', smote.score(X_val, y_val))\n",
    "print('f1 스코어',f1_score(y_val, smote_pred))\n",
    "print('auc점수 : ', roc_auc_score(y_val, smote_pred))\n",
    "print('Report \\n',classification_report(y_val, smote_pred))"
   ]
  },
  {
   "cell_type": "markdown",
   "metadata": {},
   "source": [
    "### (3) CatBoost with SMOTE3"
   ]
  },
  {
   "cell_type": "code",
   "execution_count": null,
   "metadata": {},
   "outputs": [],
   "source": [
    "# class_weights\n",
    "\n",
    "\n",
    "# 훈련/검증/테스트셋 나누기\n",
    "\n",
    "train, test = train_test_split(dataaa, test_size=0.2, random_state=2)\n",
    "train, val = train_test_split(train, test_size=0.2, random_state=2)\n",
    " \n",
    "target = 'recommendation'\n",
    "features = dataaa.columns.drop([target])\n",
    "\n",
    "X_train = train[features]\n",
    "y_train = train[target]\n",
    "X_val = val[features]\n",
    "y_val = val[target]\n",
    "X_test = test[features]\n",
    "y_test = test[target]\n",
    "\n",
    "# smote 적용\n",
    "sm = SMOTE(random_state=2)\n",
    "X_train, y_train = sm.fit_resample(X_train, y_train)\n",
    "\n",
    "smote = CatBoostClassifier(class_weights={0:ratio0,1:ratio1},random_state=2,depth=6, l2_leaf_reg=5, learning_rate=0.1).fit(X_train,y_train)\n",
    "smote_pred=smote.predict(X_val)\n",
    "\n",
    "print('훈련 정확도', smote.score(X_train, y_train))\n",
    "print('검증 정확도', smote.score(X_val, y_val))\n",
    "print('f1 스코어',f1_score(y_val, smote_pred))\n",
    "print('auc점수 : ', roc_auc_score(y_val, smote_pred))\n",
    "print('Report \\n',classification_report(y_val, smote_pred))"
   ]
  },
  {
   "cell_type": "markdown",
   "metadata": {},
   "source": [
    "### CatBoost의 Smote 및 Hyperparameter tuning 결과\n",
    "\n",
    "* RanomizedSearch를 이용해서 Hyper parameter를 적용하고 imbalance를 살펴보기로 한다.\n",
    "* CatBoost의 class_weight없이 SMOTE의 sampling_strategy=1만 사용한 첫번째 모델이 AUC가 0.5397로 가장 좋다.\n",
    "* CatBoost의 경우 Hyperparameter에 class_weight={0:ratio0,1:ratio1}를 사용시, SMOTE의 sampling_strategy hyperparameter에 영향을 미치지 않았다.\n",
    "* 이에 따라 두번째 모델과 세 번째 모델이 모든 metric score에서 동일함을 보이며, AUC가 0.53으로 첫번째 모델보다 성능이 낮음을 확인할 수 있다"
   ]
  },
  {
   "cell_type": "markdown",
   "metadata": {},
   "source": [
    "## 5) Hyper Parameter Tuning the RandomForest with OverSampling"
   ]
  },
  {
   "cell_type": "code",
   "execution_count": null,
   "metadata": {},
   "outputs": [],
   "source": [
    "# high cardinality가진 column에 유용한 Ordinal Encoding process\n",
    "\n",
    "encoder = OrdinalEncoder()\n",
    "dataaa = encoder.fit_transform(data)\n",
    "\n",
    "# 훈련/검증/테스트셋 나누기\n",
    "\n",
    "train, test = train_test_split(dataaa, test_size=0.2, random_state=2)\n",
    "train, val = train_test_split(train, test_size=0.2, random_state=2)\n",
    "\n",
    "target = 'recommendation'\n",
    "features = data.columns.drop([target])\n",
    "\n",
    "X_train = train[features]\n",
    "y_train = train[target]\n",
    "X_val = val[features]\n",
    "y_val = val[target]\n",
    "X_test = test[features]\n",
    "y_test = test[target]\n",
    "\n",
    "# concatenate our traing data back together\n",
    "X = pd.concat([X_train, y_train],axis=1)\n",
    "\n",
    "# seperate minority and majority classes\n",
    "no_recommendd = X[X.recommendation==0]\n",
    "yes_recommendd = X[X.recommendation==1]\n",
    "\n",
    "# upsample minority\n",
    "yes_reco_upsampled = resample(yes_recommendd, \n",
    "                              replace=True, # sample with replacement\n",
    "                             n_samples = len(no_recommendd),# match number in majority class\n",
    "                             random_state=2) # reproducible results\n",
    "\n",
    "# combine majority and upsampled minority\n",
    "upsampled = pd.concat([no_recommendd, yes_reco_upsampled])\n",
    "\n",
    "# check new recommendation counts\n",
    "upsampled.recommendation.value_counts() # 동일하게 맞음.\n"
   ]
  },
  {
   "cell_type": "code",
   "execution_count": null,
   "metadata": {
    "scrolled": true
   },
   "outputs": [],
   "source": [
    "# class_weight미적용.\n",
    "\n",
    "y_train = upsampled.recommendation\n",
    "X_train = upsampled.drop(target, axis=1)\n",
    "\n",
    "# randomforest에 class_weight={0:ratio0, 1:ratio1} 적용시, 훈련정확도 및 AUC 0.5로 나옴.\n",
    "upsampled_model = RandomForestClassifier(random_state=2,min_samples_leaf=1, max_features=1, max_depth=1)\n",
    "upsampled_model.fit(X_train,y_train)\n",
    "\n",
    "upsampled_model_pred = upsampled_model.predict(X_val)\n",
    "\n",
    "# Checking accuracy\n",
    "\n",
    "print('훈련 정확도', upsampled_model.score(X_train, y_train))\n",
    "print('검증 정확도', upsampled_model.score(X_val, y_val))\n",
    "print('F1 스코어',f1_score(y_val, upsampled_model_pred))\n",
    "print('auc점수 : ', roc_auc_score(y_val, upsampled_model_pred))\n",
    "print('Report \\n',classification_report(y_val, upsampled_model_pred))"
   ]
  },
  {
   "cell_type": "markdown",
   "metadata": {},
   "source": [
    "### RandomForest의 모델 중 가장 우수한 모델 : OverSampling 적용된 모델(AUC:0.59)\n",
    "\n",
    "* Hyper Parameter가 동일하게 적용된 모든 RandomForest Model을 확인시, OverSampling이 적용된 모델이 훈련정확도가 0.62로 가장 낮고, AUC가 0.59로 가장 높다.\n",
    "* SMOTE로 적용된 모델 중 가장 우수했던 첫번째 모델과 비교하면, 두 모델을 비교하면 SMOTE적용모델이 훈련정확도 0.7로 0.08 더 정확하지만, baseline을 AUC로 뒀기에 OverSampling을 적용한 모델을 RandomForest를 가장 우수하다고 할 수 있다."
   ]
  },
  {
   "cell_type": "markdown",
   "metadata": {},
   "source": [
    "## 6) Hyper Parameter Tuning the CatBoost with OverSampling"
   ]
  },
  {
   "cell_type": "code",
   "execution_count": null,
   "metadata": {
    "scrolled": true
   },
   "outputs": [],
   "source": [
    "# high cardinality가진 column에 유용한 Ordinal Encoding process\n",
    "\n",
    "encoder = OrdinalEncoder()\n",
    "dataaa = encoder.fit_transform(data)\n",
    "\n",
    "# 훈련/검증/테스트셋 나누기\n",
    "\n",
    "train, test = train_test_split(dataaa, test_size=0.2, random_state=2)\n",
    "train, val = train_test_split(train, test_size=0.2, random_state=2)\n",
    "\n",
    "target = 'recommendation'\n",
    "features = data.columns.drop([target])\n",
    "\n",
    "X_train = train[features]\n",
    "y_train = train[target]\n",
    "X_val = val[features]\n",
    "y_val = val[target]\n",
    "X_test = test[features]\n",
    "y_test = test[target]\n",
    "\n",
    "# concatenate our traing data back together\n",
    "X = pd.concat([X_train, y_train],axis=1)\n",
    "\n",
    "# seperate minority and majority classes\n",
    "no_recommendd = X[X.recommendation==0]\n",
    "yes_recommendd = X[X.recommendation==1]\n",
    "\n",
    "# upsample minority\n",
    "yes_reco_upsampled = resample(yes_recommendd, \n",
    "                              replace=True, # sample with replacement\n",
    "                             n_samples = len(no_recommendd),# match number in majority class\n",
    "                             random_state=2) # reproducible results\n",
    "\n",
    "# combine majority and upsampled minority\n",
    "upsampled = pd.concat([no_recommendd, yes_reco_upsampled])\n",
    "\n",
    "# check new recommendation counts\n",
    "upsampled.recommendation.value_counts() # 동일하게 맞음.\n"
   ]
  },
  {
   "cell_type": "markdown",
   "metadata": {},
   "source": [
    "### (1) CatBoost with OverSampling1"
   ]
  },
  {
   "cell_type": "code",
   "execution_count": null,
   "metadata": {
    "scrolled": true
   },
   "outputs": [],
   "source": [
    "# Catboost에 class_weight 적용\n",
    "\n",
    "y_train = upsampled.recommendation\n",
    "X_train = upsampled.drop(target, axis=1)\n",
    "\n",
    "upsampled_model = CatBoostClassifier(class_weights={0:ratio0, 1:ratio1},random_state=2,depth=6, l2_leaf_reg=5, learning_rate=0.1)\n",
    "upsampled_model.fit(X_train,y_train)\n",
    "\n",
    "upsampled_model_pred = upsampled_model.predict(X_val)\n",
    "\n",
    "# Checking accuracy\n",
    "\n",
    "print('훈련 정확도', upsampled_model.score(X_train, y_train))\n",
    "print('검증 정확도', upsampled_model.score(X_val, y_val))\n",
    "print('F1 스코어',f1_score(y_val, upsampled_model_pred))\n",
    "print('auc점수 : ', roc_auc_score(y_val, upsampled_model_pred))\n",
    "print('Report \\n',classification_report(y_val, upsampled_model_pred))"
   ]
  },
  {
   "cell_type": "markdown",
   "metadata": {},
   "source": [
    "### (2) CatBoost with OverSampling2"
   ]
  },
  {
   "cell_type": "code",
   "execution_count": null,
   "metadata": {},
   "outputs": [],
   "source": [
    "# Catboost에 class_weight 미적용.\n",
    "\n",
    "y_train = upsampled.recommendation\n",
    "X_train = upsampled.drop(target, axis=1)\n",
    "\n",
    "upsampled_model = CatBoostClassifier(random_state=2,depth=6, l2_leaf_reg=5, learning_rate=0.1)\n",
    "upsampled_model.fit(X_train,y_train)\n",
    "\n",
    "upsampled_model_pred = upsampled_model.predict(X_val)\n",
    "\n",
    "# Checking accuracy\n",
    "\n",
    "print('훈련 정확도', upsampled_model.score(X_train, y_train))\n",
    "print('검증 정확도', upsampled_model.score(X_val, y_val))\n",
    "print('F1 스코어',f1_score(y_val, upsampled_model_pred))\n",
    "print('auc점수 : ', roc_auc_score(y_val, upsampled_model_pred))\n",
    "print('Report \\n',classification_report(y_val, upsampled_model_pred))"
   ]
  },
  {
   "cell_type": "markdown",
   "metadata": {},
   "source": [
    "### CatBoost의 모델 중 가장 우수한 모델 : OverSampling 적용된 모델(AUC:0.54)\n",
    "\n",
    "* OverSampling의 CatBoost는 class_weights={0:ratio0, 1:ratio1} 을 적용하지 않은 모델이 AUC 0.54로 우수하다."
   ]
  },
  {
   "cell_type": "markdown",
   "metadata": {},
   "source": [
    "# 6. 머신러닝모델 해석결과"
   ]
  },
  {
   "cell_type": "markdown",
   "metadata": {},
   "source": [
    "## 1) 최종모델 : OverSampling 적용된 RandomForest모델"
   ]
  },
  {
   "cell_type": "code",
   "execution_count": null,
   "metadata": {},
   "outputs": [],
   "source": [
    "# high cardinality가진 column에 유용한 Ordinal Encoding process\n",
    "\n",
    "encoder = OrdinalEncoder()\n",
    "dataaa = encoder.fit_transform(data)\n",
    "\n",
    "# 훈련/검증/테스트셋 나누기\n",
    "\n",
    "train, test = train_test_split(dataaa, test_size=0.2, random_state=2)\n",
    "train, val = train_test_split(train, test_size=0.2, random_state=2)\n",
    "\n",
    "target = 'recommendation'\n",
    "features = data.columns.drop([target])\n",
    "\n",
    "X_train = train[features]\n",
    "y_train = train[target]\n",
    "X_val = val[features]\n",
    "y_val = val[target]\n",
    "X_test = test[features]\n",
    "y_test = test[target]\n",
    "\n",
    "# concatenate our traing data back together\n",
    "X = pd.concat([X_train, y_train],axis=1)\n",
    "\n",
    "# seperate minority and majority classes\n",
    "no_recommendd = X[X.recommendation==0]\n",
    "yes_recommendd = X[X.recommendation==1]\n",
    "\n",
    "# upsample minority\n",
    "yes_reco_upsampled = resample(yes_recommendd, \n",
    "                              replace=True, # sample with replacement\n",
    "                             n_samples = len(no_recommendd),# match number in majority class\n",
    "                             random_state=2) # reproducible results\n",
    "\n",
    "# combine majority and upsampled minority\n",
    "upsampled = pd.concat([no_recommendd, yes_reco_upsampled])\n",
    "\n",
    "# check new recommendation counts\n",
    "upsampled.recommendation.value_counts() # 동일하게 맞음.\n"
   ]
  },
  {
   "cell_type": "code",
   "execution_count": null,
   "metadata": {},
   "outputs": [],
   "source": [
    "# class_weight미적용.\n",
    "\n",
    "y_train = upsampled.recommendation\n",
    "X_train = upsampled.drop(target, axis=1)\n",
    "\n",
    "# randomforest에 class_weight={0:ratio0, 1:ratio1} 적용시, 훈련정확도 및 AUC 0.5로 나옴.\n",
    "upsampled_model = RandomForestClassifier(random_state=2,min_samples_leaf=1, max_features=1, max_depth=1)\n",
    "upsampled_model.fit(X_train,y_train)\n",
    "\n",
    "upsampled_model_pred = upsampled_model.predict(X_val)\n",
    "\n",
    "# Checking accuracy\n",
    "\n",
    "print('훈련 정확도', upsampled_model.score(X_train, y_train))\n",
    "print('검증 정확도', upsampled_model.score(X_val, y_val))\n",
    "print('F1 스코어',f1_score(y_val, upsampled_model_pred))\n",
    "print('auc점수 : ', roc_auc_score(y_val, upsampled_model_pred))\n",
    "print('Report \\n',classification_report(y_val, upsampled_model_pred))"
   ]
  },
  {
   "cell_type": "code",
   "execution_count": null,
   "metadata": {},
   "outputs": [],
   "source": [
    "# roc_curve(타겟값, prob of 1)\n",
    "\n",
    "model = upsampled_model\n",
    "\n",
    "y_pred_proba = model.predict_proba(X_val)[:, 1]\n",
    "fpr, tpr, thresholds = roc_curve(y_val, y_pred_proba)\n",
    "\n",
    "roc = pd.DataFrame({\n",
    "    'FPR(Fall-out)': fpr, \n",
    "    'TPRate(Recall)': tpr, \n",
    "    'Threshold': thresholds\n",
    "})\n",
    "# print(roc)\n",
    "\n",
    "# roc 시각화\n",
    "plt.rcParams[\"figure.figsize\"] = (10,4)\n",
    "plt.subplot(121)\n",
    "plt.scatter(fpr, tpr)\n",
    "plt.title('ROC curve')\n",
    "plt.xlabel('FPR(Fall-out)')\n",
    "plt.ylabel('TPR(Recall)');\n",
    "\n",
    "# threshold 최대값의 인덱스, np.argmax()\n",
    "optimal_idx = np.argmax(tpr - fpr)\n",
    "optimal_threshold = thresholds[optimal_idx]\n",
    "print('idx:', optimal_idx, ', threshold:', optimal_threshold)\n",
    "\n",
    "# auc 시각화\n",
    "plt.subplot(122)\n",
    "plt.plot(tpr-fpr);\n",
    "\n",
    "# threshold 설정 및 레포트\n",
    "y_pred_optimal = y_pred_proba >= optimal_threshold\n",
    "print('Report \\n',classification_report(y_val, y_pred_optimal))\n",
    "\n",
    "# auc 점수\n",
    "auc_score = roc_auc_score(y_val, y_pred_optimal)\n",
    "print('최종 검증 정확도: ', accuracy_score(y_val, y_pred_optimal))\n",
    "print('최종 f1 스코어',f1_score(y_val, y_pred_optimal))\n",
    "print('최종 auc점수 : ', auc_score)"
   ]
  },
  {
   "cell_type": "code",
   "execution_count": null,
   "metadata": {},
   "outputs": [],
   "source": [
    "# 테스트 데이터 성능확인\n",
    "# 파이프라인 빼고 재구성해서 나타냄\n",
    "\n",
    "model = upsampled_model\n",
    "\n",
    "# roc_curve(타겟값, prob of 1)\n",
    "y_pred_proba = model.predict_proba(X_test)[:, 1]\n",
    "fpr, tpr, thresholds = roc_curve(y_test, y_pred_proba)\n",
    "\n",
    "roc = pd.DataFrame({\n",
    "    'FPR(Fall-out)': fpr, \n",
    "    'TPRate(Recall)': tpr, \n",
    "    'Threshold': thresholds\n",
    "})\n",
    "\n",
    "# roc 시각화\n",
    "plt.rcParams[\"figure.figsize\"] = (10,4)\n",
    "plt.subplot(121)\n",
    "plt.scatter(fpr, tpr)\n",
    "plt.title('ROC curve')\n",
    "plt.xlabel('FPR(Fall-out)')\n",
    "plt.ylabel('TPR(Recall)');\n",
    "\n",
    "# 최적의 threshold\n",
    "optimal_idx = np.argmax(tpr - fpr)\n",
    "optimal_threshold = thresholds[optimal_idx]\n",
    "print('idx:', optimal_idx, ', threshold:', optimal_threshold)\n",
    "\n",
    "# auc 시각화\n",
    "plt.subplot(122)\n",
    "plt.plot(tpr-fpr);\n",
    "\n",
    "# threshold 설정 및 레포트\n",
    "y_pred_optimal = y_pred_proba >= optimal_threshold\n",
    "print('Report \\n',classification_report(y_test, y_pred_optimal))\n",
    "\n",
    "# auc 점수\n",
    "auc_score = roc_auc_score(y_test, y_pred_optimal)\n",
    "print('테스트 정확도', model.score(X_test, y_test))\n",
    "print('f1 스코어',f1_score(y_test, y_pred_optimal))\n",
    "print('auc점수 : ', auc_score)"
   ]
  },
  {
   "cell_type": "markdown",
   "metadata": {},
   "source": [
    "## 2) Feature Importance"
   ]
  },
  {
   "cell_type": "markdown",
   "metadata": {},
   "source": [
    "* 트리기반 앙상블모델에서 사용되는 중요도로, 모든 상호학습 후에 특성들의 중요도 정보(Gini importance)를 이용한다.\n",
    "* 노드들의 지니불순도(Gini Impurity)를 가지고 계산하는데, 노드가 중요할수록 불순도가 크게 감소하는 사실을 이용한다.\n",
    "* 속도는 빠르지만 high-cardinality특성이 있는 경우, 트리구성 중 분기에 이용될 확률이 높아 과적합의 위험이 있다."
   ]
  },
  {
   "cell_type": "code",
   "execution_count": null,
   "metadata": {},
   "outputs": [],
   "source": [
    "dataaaa=dataaa.drop(['recommendation'],axis=1)"
   ]
  },
  {
   "cell_type": "code",
   "execution_count": null,
   "metadata": {
    "scrolled": true
   },
   "outputs": [],
   "source": [
    "# 특성중요도확인\n",
    "\n",
    "importances = pd.Series(upsampled_model.feature_importances_, dataaaa.columns)\n",
    "plt.figure(figsize=(10,10))\n",
    "importances.sort_values().plot.barh();"
   ]
  },
  {
   "cell_type": "markdown",
   "metadata": {},
   "source": [
    "## Permutation Importance (순열 중요도)"
   ]
  },
  {
   "cell_type": "markdown",
   "metadata": {},
   "source": [
    "* 모델 예측에 가장 큰 영향을 미치는 Feature를 파악하기 위해, 모델을 학습시킨 후, 훈련모델이 특정 Feature를 안썼을 때, 성능 손실이 얼마나 영향을 주는지, 변수중요도를 확인하는 방법. \n",
    "* high-cardinality의 경우 생기는 문제를 보완하기 위해 관심있는 특성에만 무작위로 노이즈(shuffle, permutation)를 주고, 평가지표가 얼마나 감소하는지 측정.(Black-box모델에 대해서 특정 feature를 안썼을 때, 성능이 얼마만큼 영향을 미치는지 feature의 중요도를 확인.)  \n",
    "\n",
    "\n",
    "* 장점\n",
    "* 모델을 재학습시킬 필요가 없다. (feature를 제거하는 대신, 무작위로 섞어(permutation) 노이즈로 만들기 때문에)\n",
    "* 이렇게 특정 Feature를 섞었을 때, 예측값이 실제값보다 얼마나 차이나는지를 통해 해당 Feature의 영향력을 파악할 수 있다.\n",
    "* 훈련된 모델이 이 특정 Feature에 크게 의존하고 있을 경우, 예측 정확도는 감소한다.(모델성능이 떨어지면 중요한 Feature)  \n",
    "\n",
    "\n",
    "* 단점\n",
    "* feature 값들을 무작위로 섞어 feature간의 연결되는 중요도가 사라지기에, 실행마다 Feature importance 결과가 매우 달라질 수 있고, 비현실적인 데이터 조합이 생성될 가능성이 높다."
   ]
  },
  {
   "cell_type": "code",
   "execution_count": null,
   "metadata": {},
   "outputs": [],
   "source": [
    "# 순열중요도로 중요하지 않은 순서대로 나타냄\n",
    "# 파이프라인 빼고 재구성해서 나타냄\n",
    "\n",
    "import warnings\n",
    "warnings.simplefilter(action='ignore', category=FutureWarning)\n",
    "\n",
    "# permuter 정의\n",
    "permuter = PermutationImportance(\n",
    "    upsampled_model, # model\n",
    "    scoring='roc_auc', # metric. \n",
    "    n_iter=5, # 다른 random seed를 사용하여 5번 반복\n",
    "    random_state=2)\n",
    "\n",
    "'''# permuter 계산은 preprocessing 된 X_val을 사용\n",
    "X_val_transformed = pipe_cat_o.named_steps['preprocessing'].transform(X_val)'''\n",
    "\n",
    "# 실제로 fit 의미보다는 스코어를 다시 계산하는 작업\n",
    "permuter.fit(X_val, y_val)\n",
    "\n",
    "feature_names = X_val.columns.tolist()\n",
    "pd.Series(permuter.feature_importances_, feature_names).sort_values()\n"
   ]
  },
  {
   "cell_type": "code",
   "execution_count": null,
   "metadata": {},
   "outputs": [],
   "source": [
    "# 특성별 score 확인->ver이 모델에서 가장 높은 특성임을 보여줌\n",
    "# 3차모델링의 파이프라인으로 나타냄\n",
    "\n",
    "eli5.show_weights(permuter, top=None,\n",
    "    feature_names=feature_names \n",
    ")"
   ]
  },
  {
   "cell_type": "markdown",
   "metadata": {},
   "source": [
    "* 순열 중요도에 대한 음수 값은 데이터에 대한 예측이 실제 데이터보다 더 정확함을 나타낸다. \n",
    "* 이는 특성이 예측에 많은 기여를 하지 않고,(중요도가 0에 가까움) 무작위 우연으로 인해 섞인 데이터에 대한 예측이 더 정확하다는 것을 의미한다."
   ]
  },
  {
   "cell_type": "markdown",
   "metadata": {},
   "source": [
    "Feature Importance는 트리기반 앙상블모델에서 사용되는 중요도로 노드가 중요할수록 불순도가 크게 감소하는 특징을 이용하여 중요도를 나타낸 것으로,  \n",
    "lang_num, prime_genre, size_bytes Feature가 중요함을 보여준다.  \n",
    "Permutation Importance는 무작위로 섞어 노이즈로 만들기에 예측값과 실제값이 어람나 차이나는지 영향력을 파악하는 것인데,  \n",
    "rating_count_tot, size_bytes, ipadSc_urls_num의 순으로 중요한 Feature임을 보여준다."
   ]
  },
  {
   "cell_type": "markdown",
   "metadata": {},
   "source": [
    "## 4) PDP"
   ]
  },
  {
   "cell_type": "markdown",
   "metadata": {},
   "source": [
    "* Feature Importance에서 중요한 상위 4가지 Feature에 대해 PDPlot 확인"
   ]
  },
  {
   "cell_type": "code",
   "execution_count": null,
   "metadata": {},
   "outputs": [],
   "source": [
    "# dpi(dots per inch) 수치조정-> 이미지 화질조정\n",
    "import matplotlib.pyplot as plt\n",
    "plt.rcParams['figure.dpi'] = 144\n",
    "\n",
    "for i in ['size_bytes', 'rating_count_tot', 'size_bytes','ver']:\n",
    "    feature = i\n",
    "    isolated = pdp_isolate(\n",
    "        model = upsampled_model,\n",
    "        dataset=X_train,\n",
    "        model_features=X_train.columns,\n",
    "        feature=feature,\n",
    "        grid_type='percentile',\n",
    "        num_grid_points=10\n",
    "        )\n",
    "    pdp_plot(isolated,feature_name=feature);"
   ]
  },
  {
   "cell_type": "code",
   "execution_count": null,
   "metadata": {
    "colab": {
     "base_uri": "https://localhost:8080/",
     "height": 699
    },
    "id": "X06ksS5cCS8V",
    "outputId": "d004e3a8-98b6-4780-88ee-f3e6447a131a",
    "scrolled": true
   },
   "outputs": [],
   "source": [
    "# price 0~10로 확대 \n",
    "pdp_plot(isolated, feature_name='price')\n",
    "plt.xlim((0,10));"
   ]
  },
  {
   "cell_type": "markdown",
   "metadata": {},
   "source": [
    "## 5) 프로젝트 회고"
   ]
  },
  {
   "cell_type": "markdown",
   "metadata": {},
   "source": [
    "* Feature Importance와 Permutation Importance에서의 특성이 비슷하다고 하기는 어려웠고, PDP에서는 추천이 안 되는 시각화는 나왔지만, 추천되는 부분에 대한 시각화가 잘 나타나지 않았다. \n",
    "* Imbalance한 데이터의 모델링에 성능을 높이기 위해 많은 시도를 하였으나, 최종모델에 Test Data를 넣었을 때, AUC Score가 0.58로 마무리 지은 것이 아쉽다.\n",
    "* 모델의 성능이 좋다고 하기는 어려운데, 이는 데이터 특성의 정보가 부족하기 때문이라고 생각한다.\n",
    "* 어플의 추천시 특성상 주관적인 판단이 많이 들어가는데, 캐글 데이터로 주관적인 내용을 구분하기는 쉽지 않았다.\n",
    "* 연령대나 성별 등 이용자의 정보가 추가적으로 특성에 반영된다면 더 좋은 모델링을 할 수 있을 것이라 기대한다."
   ]
  }
 ],
 "metadata": {
  "colab": {
   "collapsed_sections": [],
   "machine_shape": "hm",
   "name": "Ai_05_이상아_Section2-Copy1.ipynb",
   "provenance": []
  },
  "kernelspec": {
   "display_name": "kerneljookjima",
   "language": "python",
   "name": "kerneljookjima"
  },
  "language_info": {
   "codemirror_mode": {
    "name": "ipython",
    "version": 3
   },
   "file_extension": ".py",
   "mimetype": "text/x-python",
   "name": "python",
   "nbconvert_exporter": "python",
   "pygments_lexer": "ipython3",
   "version": "3.8.13"
  },
  "widgets": {
   "application/vnd.jupyter.widget-state+json": {
    "009c61dc4227439dab233eec7b34fb0c": {
     "model_module": "@jupyter-widgets/base",
     "model_module_version": "1.2.0",
     "model_name": "LayoutModel",
     "state": {
      "_model_module": "@jupyter-widgets/base",
      "_model_module_version": "1.2.0",
      "_model_name": "LayoutModel",
      "_view_count": null,
      "_view_module": "@jupyter-widgets/base",
      "_view_module_version": "1.2.0",
      "_view_name": "LayoutView",
      "align_content": null,
      "align_items": null,
      "align_self": null,
      "border": null,
      "bottom": null,
      "display": null,
      "flex": null,
      "flex_flow": null,
      "grid_area": null,
      "grid_auto_columns": null,
      "grid_auto_flow": null,
      "grid_auto_rows": null,
      "grid_column": null,
      "grid_gap": null,
      "grid_row": null,
      "grid_template_areas": null,
      "grid_template_columns": null,
      "grid_template_rows": null,
      "height": null,
      "justify_content": null,
      "justify_items": null,
      "left": null,
      "margin": null,
      "max_height": null,
      "max_width": null,
      "min_height": null,
      "min_width": null,
      "object_fit": null,
      "object_position": null,
      "order": null,
      "overflow": null,
      "overflow_x": null,
      "overflow_y": null,
      "padding": null,
      "right": null,
      "top": null,
      "visibility": null,
      "width": null
     }
    },
    "071dba85ac654160a9d4b2aeb48ecbd6": {
     "model_module": "@jupyter-widgets/controls",
     "model_module_version": "1.5.0",
     "model_name": "DescriptionStyleModel",
     "state": {
      "_model_module": "@jupyter-widgets/controls",
      "_model_module_version": "1.5.0",
      "_model_name": "DescriptionStyleModel",
      "_view_count": null,
      "_view_module": "@jupyter-widgets/base",
      "_view_module_version": "1.2.0",
      "_view_name": "StyleView",
      "description_width": ""
     }
    },
    "07fa19bb0aba45b5949af42bc58ce3ca": {
     "model_module": "@jupyter-widgets/base",
     "model_module_version": "1.2.0",
     "model_name": "LayoutModel",
     "state": {
      "_model_module": "@jupyter-widgets/base",
      "_model_module_version": "1.2.0",
      "_model_name": "LayoutModel",
      "_view_count": null,
      "_view_module": "@jupyter-widgets/base",
      "_view_module_version": "1.2.0",
      "_view_name": "LayoutView",
      "align_content": null,
      "align_items": null,
      "align_self": null,
      "border": null,
      "bottom": null,
      "display": null,
      "flex": null,
      "flex_flow": null,
      "grid_area": null,
      "grid_auto_columns": null,
      "grid_auto_flow": null,
      "grid_auto_rows": null,
      "grid_column": null,
      "grid_gap": null,
      "grid_row": null,
      "grid_template_areas": null,
      "grid_template_columns": null,
      "grid_template_rows": null,
      "height": null,
      "justify_content": null,
      "justify_items": null,
      "left": null,
      "margin": null,
      "max_height": null,
      "max_width": null,
      "min_height": null,
      "min_width": null,
      "object_fit": null,
      "object_position": null,
      "order": null,
      "overflow": null,
      "overflow_x": null,
      "overflow_y": null,
      "padding": null,
      "right": null,
      "top": null,
      "visibility": null,
      "width": null
     }
    },
    "155bb15695444d429d17461339634457": {
     "model_module": "@jupyter-widgets/base",
     "model_module_version": "1.2.0",
     "model_name": "LayoutModel",
     "state": {
      "_model_module": "@jupyter-widgets/base",
      "_model_module_version": "1.2.0",
      "_model_name": "LayoutModel",
      "_view_count": null,
      "_view_module": "@jupyter-widgets/base",
      "_view_module_version": "1.2.0",
      "_view_name": "LayoutView",
      "align_content": null,
      "align_items": null,
      "align_self": null,
      "border": null,
      "bottom": null,
      "display": null,
      "flex": null,
      "flex_flow": null,
      "grid_area": null,
      "grid_auto_columns": null,
      "grid_auto_flow": null,
      "grid_auto_rows": null,
      "grid_column": null,
      "grid_gap": null,
      "grid_row": null,
      "grid_template_areas": null,
      "grid_template_columns": null,
      "grid_template_rows": null,
      "height": null,
      "justify_content": null,
      "justify_items": null,
      "left": null,
      "margin": null,
      "max_height": null,
      "max_width": null,
      "min_height": null,
      "min_width": null,
      "object_fit": null,
      "object_position": null,
      "order": null,
      "overflow": null,
      "overflow_x": null,
      "overflow_y": null,
      "padding": null,
      "right": null,
      "top": null,
      "visibility": null,
      "width": null
     }
    },
    "20eb2b9cf7ee4686bf8595df00abe8fb": {
     "model_module": "@jupyter-widgets/controls",
     "model_module_version": "1.5.0",
     "model_name": "FloatProgressModel",
     "state": {
      "_dom_classes": [],
      "_model_module": "@jupyter-widgets/controls",
      "_model_module_version": "1.5.0",
      "_model_name": "FloatProgressModel",
      "_view_count": null,
      "_view_module": "@jupyter-widgets/controls",
      "_view_module_version": "1.5.0",
      "_view_name": "ProgressView",
      "bar_style": "success",
      "description": "",
      "description_tooltip": null,
      "layout": "IPY_MODEL_e28085224827429f8aa23fbbf2f2bc44",
      "max": 1,
      "min": 0,
      "orientation": "horizontal",
      "style": "IPY_MODEL_64366be3460e4fcfac774eff056da969",
      "value": 1
     }
    },
    "40af0e039f8b43299ed72cd60ff03b29": {
     "model_module": "@jupyter-widgets/controls",
     "model_module_version": "1.5.0",
     "model_name": "ProgressStyleModel",
     "state": {
      "_model_module": "@jupyter-widgets/controls",
      "_model_module_version": "1.5.0",
      "_model_name": "ProgressStyleModel",
      "_view_count": null,
      "_view_module": "@jupyter-widgets/base",
      "_view_module_version": "1.2.0",
      "_view_name": "StyleView",
      "bar_color": null,
      "description_width": ""
     }
    },
    "488a0322b5b74227a8413a682ef2a57c": {
     "model_module": "@jupyter-widgets/base",
     "model_module_version": "1.2.0",
     "model_name": "LayoutModel",
     "state": {
      "_model_module": "@jupyter-widgets/base",
      "_model_module_version": "1.2.0",
      "_model_name": "LayoutModel",
      "_view_count": null,
      "_view_module": "@jupyter-widgets/base",
      "_view_module_version": "1.2.0",
      "_view_name": "LayoutView",
      "align_content": null,
      "align_items": null,
      "align_self": null,
      "border": null,
      "bottom": null,
      "display": null,
      "flex": null,
      "flex_flow": null,
      "grid_area": null,
      "grid_auto_columns": null,
      "grid_auto_flow": null,
      "grid_auto_rows": null,
      "grid_column": null,
      "grid_gap": null,
      "grid_row": null,
      "grid_template_areas": null,
      "grid_template_columns": null,
      "grid_template_rows": null,
      "height": null,
      "justify_content": null,
      "justify_items": null,
      "left": null,
      "margin": null,
      "max_height": null,
      "max_width": null,
      "min_height": null,
      "min_width": null,
      "object_fit": null,
      "object_position": null,
      "order": null,
      "overflow": null,
      "overflow_x": null,
      "overflow_y": null,
      "padding": null,
      "right": null,
      "top": null,
      "visibility": null,
      "width": null
     }
    },
    "4b1973ca197a411e9497629f52c5a601": {
     "model_module": "@jupyter-widgets/controls",
     "model_module_version": "1.5.0",
     "model_name": "HTMLModel",
     "state": {
      "_dom_classes": [],
      "_model_module": "@jupyter-widgets/controls",
      "_model_module_version": "1.5.0",
      "_model_name": "HTMLModel",
      "_view_count": null,
      "_view_module": "@jupyter-widgets/controls",
      "_view_module_version": "1.5.0",
      "_view_name": "HTMLView",
      "description": "",
      "description_tooltip": null,
      "layout": "IPY_MODEL_488a0322b5b74227a8413a682ef2a57c",
      "placeholder": "​",
      "style": "IPY_MODEL_d015ee97feec43198c37e22ad03c536e",
      "value": "Summarize dataset: 100%"
     }
    },
    "5094d258ea1c47ae9837401fdc03454b": {
     "model_module": "@jupyter-widgets/controls",
     "model_module_version": "1.5.0",
     "model_name": "DescriptionStyleModel",
     "state": {
      "_model_module": "@jupyter-widgets/controls",
      "_model_module_version": "1.5.0",
      "_model_name": "DescriptionStyleModel",
      "_view_count": null,
      "_view_module": "@jupyter-widgets/base",
      "_view_module_version": "1.2.0",
      "_view_name": "StyleView",
      "description_width": ""
     }
    },
    "52582176d24647f683b14bae61cc73a1": {
     "model_module": "@jupyter-widgets/base",
     "model_module_version": "1.2.0",
     "model_name": "LayoutModel",
     "state": {
      "_model_module": "@jupyter-widgets/base",
      "_model_module_version": "1.2.0",
      "_model_name": "LayoutModel",
      "_view_count": null,
      "_view_module": "@jupyter-widgets/base",
      "_view_module_version": "1.2.0",
      "_view_name": "LayoutView",
      "align_content": null,
      "align_items": null,
      "align_self": null,
      "border": null,
      "bottom": null,
      "display": null,
      "flex": null,
      "flex_flow": null,
      "grid_area": null,
      "grid_auto_columns": null,
      "grid_auto_flow": null,
      "grid_auto_rows": null,
      "grid_column": null,
      "grid_gap": null,
      "grid_row": null,
      "grid_template_areas": null,
      "grid_template_columns": null,
      "grid_template_rows": null,
      "height": null,
      "justify_content": null,
      "justify_items": null,
      "left": null,
      "margin": null,
      "max_height": null,
      "max_width": null,
      "min_height": null,
      "min_width": null,
      "object_fit": null,
      "object_position": null,
      "order": null,
      "overflow": null,
      "overflow_x": null,
      "overflow_y": null,
      "padding": null,
      "right": null,
      "top": null,
      "visibility": null,
      "width": null
     }
    },
    "64366be3460e4fcfac774eff056da969": {
     "model_module": "@jupyter-widgets/controls",
     "model_module_version": "1.5.0",
     "model_name": "ProgressStyleModel",
     "state": {
      "_model_module": "@jupyter-widgets/controls",
      "_model_module_version": "1.5.0",
      "_model_name": "ProgressStyleModel",
      "_view_count": null,
      "_view_module": "@jupyter-widgets/base",
      "_view_module_version": "1.2.0",
      "_view_name": "StyleView",
      "bar_color": null,
      "description_width": ""
     }
    },
    "6a220a4cee044d3ca9ddd205489e9e4d": {
     "model_module": "@jupyter-widgets/controls",
     "model_module_version": "1.5.0",
     "model_name": "DescriptionStyleModel",
     "state": {
      "_model_module": "@jupyter-widgets/controls",
      "_model_module_version": "1.5.0",
      "_model_name": "DescriptionStyleModel",
      "_view_count": null,
      "_view_module": "@jupyter-widgets/base",
      "_view_module_version": "1.2.0",
      "_view_name": "StyleView",
      "description_width": ""
     }
    },
    "6d6a35d3dad841ae8d89e670f9a941be": {
     "model_module": "@jupyter-widgets/controls",
     "model_module_version": "1.5.0",
     "model_name": "FloatProgressModel",
     "state": {
      "_dom_classes": [],
      "_model_module": "@jupyter-widgets/controls",
      "_model_module_version": "1.5.0",
      "_model_name": "FloatProgressModel",
      "_view_count": null,
      "_view_module": "@jupyter-widgets/controls",
      "_view_module_version": "1.5.0",
      "_view_name": "ProgressView",
      "bar_style": "success",
      "description": "",
      "description_tooltip": null,
      "layout": "IPY_MODEL_009c61dc4227439dab233eec7b34fb0c",
      "max": 22,
      "min": 0,
      "orientation": "horizontal",
      "style": "IPY_MODEL_40af0e039f8b43299ed72cd60ff03b29",
      "value": 22
     }
    },
    "6f4a1b160a55483bb6017150c7828281": {
     "model_module": "@jupyter-widgets/controls",
     "model_module_version": "1.5.0",
     "model_name": "HTMLModel",
     "state": {
      "_dom_classes": [],
      "_model_module": "@jupyter-widgets/controls",
      "_model_module_version": "1.5.0",
      "_model_name": "HTMLModel",
      "_view_count": null,
      "_view_module": "@jupyter-widgets/controls",
      "_view_module_version": "1.5.0",
      "_view_name": "HTMLView",
      "description": "",
      "description_tooltip": null,
      "layout": "IPY_MODEL_aa80db4a74c54c9a97ce58c0bac7ca2b",
      "placeholder": "​",
      "style": "IPY_MODEL_fae3b5b8cea84da69122286f1fdb3a5c",
      "value": " 1/1 [00:00&lt;00:00,  1.78it/s]"
     }
    },
    "7647739f8d5142299e78e3fb689f18cb": {
     "model_module": "@jupyter-widgets/base",
     "model_module_version": "1.2.0",
     "model_name": "LayoutModel",
     "state": {
      "_model_module": "@jupyter-widgets/base",
      "_model_module_version": "1.2.0",
      "_model_name": "LayoutModel",
      "_view_count": null,
      "_view_module": "@jupyter-widgets/base",
      "_view_module_version": "1.2.0",
      "_view_name": "LayoutView",
      "align_content": null,
      "align_items": null,
      "align_self": null,
      "border": null,
      "bottom": null,
      "display": null,
      "flex": null,
      "flex_flow": null,
      "grid_area": null,
      "grid_auto_columns": null,
      "grid_auto_flow": null,
      "grid_auto_rows": null,
      "grid_column": null,
      "grid_gap": null,
      "grid_row": null,
      "grid_template_areas": null,
      "grid_template_columns": null,
      "grid_template_rows": null,
      "height": null,
      "justify_content": null,
      "justify_items": null,
      "left": null,
      "margin": null,
      "max_height": null,
      "max_width": null,
      "min_height": null,
      "min_width": null,
      "object_fit": null,
      "object_position": null,
      "order": null,
      "overflow": null,
      "overflow_x": null,
      "overflow_y": null,
      "padding": null,
      "right": null,
      "top": null,
      "visibility": null,
      "width": null
     }
    },
    "76c4873a313846619a03c4eebbc01f98": {
     "model_module": "@jupyter-widgets/controls",
     "model_module_version": "1.5.0",
     "model_name": "HTMLModel",
     "state": {
      "_dom_classes": [],
      "_model_module": "@jupyter-widgets/controls",
      "_model_module_version": "1.5.0",
      "_model_name": "HTMLModel",
      "_view_count": null,
      "_view_module": "@jupyter-widgets/controls",
      "_view_module_version": "1.5.0",
      "_view_name": "HTMLView",
      "description": "",
      "description_tooltip": null,
      "layout": "IPY_MODEL_52582176d24647f683b14bae61cc73a1",
      "placeholder": "​",
      "style": "IPY_MODEL_6a220a4cee044d3ca9ddd205489e9e4d",
      "value": " 1/1 [00:05&lt;00:00,  5.38s/it]"
     }
    },
    "7d78f062a66c46e49e25971518145174": {
     "model_module": "@jupyter-widgets/base",
     "model_module_version": "1.2.0",
     "model_name": "LayoutModel",
     "state": {
      "_model_module": "@jupyter-widgets/base",
      "_model_module_version": "1.2.0",
      "_model_name": "LayoutModel",
      "_view_count": null,
      "_view_module": "@jupyter-widgets/base",
      "_view_module_version": "1.2.0",
      "_view_name": "LayoutView",
      "align_content": null,
      "align_items": null,
      "align_self": null,
      "border": null,
      "bottom": null,
      "display": null,
      "flex": null,
      "flex_flow": null,
      "grid_area": null,
      "grid_auto_columns": null,
      "grid_auto_flow": null,
      "grid_auto_rows": null,
      "grid_column": null,
      "grid_gap": null,
      "grid_row": null,
      "grid_template_areas": null,
      "grid_template_columns": null,
      "grid_template_rows": null,
      "height": null,
      "justify_content": null,
      "justify_items": null,
      "left": null,
      "margin": null,
      "max_height": null,
      "max_width": null,
      "min_height": null,
      "min_width": null,
      "object_fit": null,
      "object_position": null,
      "order": null,
      "overflow": null,
      "overflow_x": null,
      "overflow_y": null,
      "padding": null,
      "right": null,
      "top": null,
      "visibility": null,
      "width": null
     }
    },
    "8a4b3ceb201a4f47b16ec1335e86c108": {
     "model_module": "@jupyter-widgets/controls",
     "model_module_version": "1.5.0",
     "model_name": "HBoxModel",
     "state": {
      "_dom_classes": [],
      "_model_module": "@jupyter-widgets/controls",
      "_model_module_version": "1.5.0",
      "_model_name": "HBoxModel",
      "_view_count": null,
      "_view_module": "@jupyter-widgets/controls",
      "_view_module_version": "1.5.0",
      "_view_name": "HBoxView",
      "box_style": "",
      "children": [
       "IPY_MODEL_4b1973ca197a411e9497629f52c5a601",
       "IPY_MODEL_6d6a35d3dad841ae8d89e670f9a941be",
       "IPY_MODEL_9c427fa61dbb436c86c28de31d670bc5"
      ],
      "layout": "IPY_MODEL_7647739f8d5142299e78e3fb689f18cb"
     }
    },
    "8d4b73b3e7634e89bcd2b39bec565984": {
     "model_module": "@jupyter-widgets/controls",
     "model_module_version": "1.5.0",
     "model_name": "HBoxModel",
     "state": {
      "_dom_classes": [],
      "_model_module": "@jupyter-widgets/controls",
      "_model_module_version": "1.5.0",
      "_model_name": "HBoxModel",
      "_view_count": null,
      "_view_module": "@jupyter-widgets/controls",
      "_view_module_version": "1.5.0",
      "_view_name": "HBoxView",
      "box_style": "",
      "children": [
       "IPY_MODEL_e37fc3cf87b042d6bc7d0805632406af",
       "IPY_MODEL_ae908e1d8bc24e6e9a8926fe0dd9a8fe",
       "IPY_MODEL_76c4873a313846619a03c4eebbc01f98"
      ],
      "layout": "IPY_MODEL_f3d1744152ab4762b2129f5612232466"
     }
    },
    "8e9c085b19984c27b2b8a5a3cea38f15": {
     "model_module": "@jupyter-widgets/controls",
     "model_module_version": "1.5.0",
     "model_name": "HBoxModel",
     "state": {
      "_dom_classes": [],
      "_model_module": "@jupyter-widgets/controls",
      "_model_module_version": "1.5.0",
      "_model_name": "HBoxModel",
      "_view_count": null,
      "_view_module": "@jupyter-widgets/controls",
      "_view_module_version": "1.5.0",
      "_view_name": "HBoxView",
      "box_style": "",
      "children": [
       "IPY_MODEL_a40f4a896ef64c1db9a19924da8913ac",
       "IPY_MODEL_20eb2b9cf7ee4686bf8595df00abe8fb",
       "IPY_MODEL_6f4a1b160a55483bb6017150c7828281"
      ],
      "layout": "IPY_MODEL_07fa19bb0aba45b5949af42bc58ce3ca"
     }
    },
    "9c427fa61dbb436c86c28de31d670bc5": {
     "model_module": "@jupyter-widgets/controls",
     "model_module_version": "1.5.0",
     "model_name": "HTMLModel",
     "state": {
      "_dom_classes": [],
      "_model_module": "@jupyter-widgets/controls",
      "_model_module_version": "1.5.0",
      "_model_name": "HTMLModel",
      "_view_count": null,
      "_view_module": "@jupyter-widgets/controls",
      "_view_module_version": "1.5.0",
      "_view_name": "HTMLView",
      "description": "",
      "description_tooltip": null,
      "layout": "IPY_MODEL_7d78f062a66c46e49e25971518145174",
      "placeholder": "​",
      "style": "IPY_MODEL_9ea0099c950c42af8eee6c375e967b7e",
      "value": " 22/22 [00:00&lt;00:00, 41.28it/s, Completed]"
     }
    },
    "9ea0099c950c42af8eee6c375e967b7e": {
     "model_module": "@jupyter-widgets/controls",
     "model_module_version": "1.5.0",
     "model_name": "DescriptionStyleModel",
     "state": {
      "_model_module": "@jupyter-widgets/controls",
      "_model_module_version": "1.5.0",
      "_model_name": "DescriptionStyleModel",
      "_view_count": null,
      "_view_module": "@jupyter-widgets/base",
      "_view_module_version": "1.2.0",
      "_view_name": "StyleView",
      "description_width": ""
     }
    },
    "a213679e930243cbb11e84ffcaef711f": {
     "model_module": "@jupyter-widgets/base",
     "model_module_version": "1.2.0",
     "model_name": "LayoutModel",
     "state": {
      "_model_module": "@jupyter-widgets/base",
      "_model_module_version": "1.2.0",
      "_model_name": "LayoutModel",
      "_view_count": null,
      "_view_module": "@jupyter-widgets/base",
      "_view_module_version": "1.2.0",
      "_view_name": "LayoutView",
      "align_content": null,
      "align_items": null,
      "align_self": null,
      "border": null,
      "bottom": null,
      "display": null,
      "flex": null,
      "flex_flow": null,
      "grid_area": null,
      "grid_auto_columns": null,
      "grid_auto_flow": null,
      "grid_auto_rows": null,
      "grid_column": null,
      "grid_gap": null,
      "grid_row": null,
      "grid_template_areas": null,
      "grid_template_columns": null,
      "grid_template_rows": null,
      "height": null,
      "justify_content": null,
      "justify_items": null,
      "left": null,
      "margin": null,
      "max_height": null,
      "max_width": null,
      "min_height": null,
      "min_width": null,
      "object_fit": null,
      "object_position": null,
      "order": null,
      "overflow": null,
      "overflow_x": null,
      "overflow_y": null,
      "padding": null,
      "right": null,
      "top": null,
      "visibility": null,
      "width": null
     }
    },
    "a40f4a896ef64c1db9a19924da8913ac": {
     "model_module": "@jupyter-widgets/controls",
     "model_module_version": "1.5.0",
     "model_name": "HTMLModel",
     "state": {
      "_dom_classes": [],
      "_model_module": "@jupyter-widgets/controls",
      "_model_module_version": "1.5.0",
      "_model_name": "HTMLModel",
      "_view_count": null,
      "_view_module": "@jupyter-widgets/controls",
      "_view_module_version": "1.5.0",
      "_view_name": "HTMLView",
      "description": "",
      "description_tooltip": null,
      "layout": "IPY_MODEL_a213679e930243cbb11e84ffcaef711f",
      "placeholder": "​",
      "style": "IPY_MODEL_5094d258ea1c47ae9837401fdc03454b",
      "value": "Render HTML: 100%"
     }
    },
    "aa80db4a74c54c9a97ce58c0bac7ca2b": {
     "model_module": "@jupyter-widgets/base",
     "model_module_version": "1.2.0",
     "model_name": "LayoutModel",
     "state": {
      "_model_module": "@jupyter-widgets/base",
      "_model_module_version": "1.2.0",
      "_model_name": "LayoutModel",
      "_view_count": null,
      "_view_module": "@jupyter-widgets/base",
      "_view_module_version": "1.2.0",
      "_view_name": "LayoutView",
      "align_content": null,
      "align_items": null,
      "align_self": null,
      "border": null,
      "bottom": null,
      "display": null,
      "flex": null,
      "flex_flow": null,
      "grid_area": null,
      "grid_auto_columns": null,
      "grid_auto_flow": null,
      "grid_auto_rows": null,
      "grid_column": null,
      "grid_gap": null,
      "grid_row": null,
      "grid_template_areas": null,
      "grid_template_columns": null,
      "grid_template_rows": null,
      "height": null,
      "justify_content": null,
      "justify_items": null,
      "left": null,
      "margin": null,
      "max_height": null,
      "max_width": null,
      "min_height": null,
      "min_width": null,
      "object_fit": null,
      "object_position": null,
      "order": null,
      "overflow": null,
      "overflow_x": null,
      "overflow_y": null,
      "padding": null,
      "right": null,
      "top": null,
      "visibility": null,
      "width": null
     }
    },
    "ab2760af857f4cf09713921c132edff5": {
     "model_module": "@jupyter-widgets/controls",
     "model_module_version": "1.5.0",
     "model_name": "ProgressStyleModel",
     "state": {
      "_model_module": "@jupyter-widgets/controls",
      "_model_module_version": "1.5.0",
      "_model_name": "ProgressStyleModel",
      "_view_count": null,
      "_view_module": "@jupyter-widgets/base",
      "_view_module_version": "1.2.0",
      "_view_name": "StyleView",
      "bar_color": null,
      "description_width": ""
     }
    },
    "ae908e1d8bc24e6e9a8926fe0dd9a8fe": {
     "model_module": "@jupyter-widgets/controls",
     "model_module_version": "1.5.0",
     "model_name": "FloatProgressModel",
     "state": {
      "_dom_classes": [],
      "_model_module": "@jupyter-widgets/controls",
      "_model_module_version": "1.5.0",
      "_model_name": "FloatProgressModel",
      "_view_count": null,
      "_view_module": "@jupyter-widgets/controls",
      "_view_module_version": "1.5.0",
      "_view_name": "ProgressView",
      "bar_style": "success",
      "description": "",
      "description_tooltip": null,
      "layout": "IPY_MODEL_ff01c62a01ea4933ae9b5703068b8edd",
      "max": 1,
      "min": 0,
      "orientation": "horizontal",
      "style": "IPY_MODEL_ab2760af857f4cf09713921c132edff5",
      "value": 1
     }
    },
    "d015ee97feec43198c37e22ad03c536e": {
     "model_module": "@jupyter-widgets/controls",
     "model_module_version": "1.5.0",
     "model_name": "DescriptionStyleModel",
     "state": {
      "_model_module": "@jupyter-widgets/controls",
      "_model_module_version": "1.5.0",
      "_model_name": "DescriptionStyleModel",
      "_view_count": null,
      "_view_module": "@jupyter-widgets/base",
      "_view_module_version": "1.2.0",
      "_view_name": "StyleView",
      "description_width": ""
     }
    },
    "e28085224827429f8aa23fbbf2f2bc44": {
     "model_module": "@jupyter-widgets/base",
     "model_module_version": "1.2.0",
     "model_name": "LayoutModel",
     "state": {
      "_model_module": "@jupyter-widgets/base",
      "_model_module_version": "1.2.0",
      "_model_name": "LayoutModel",
      "_view_count": null,
      "_view_module": "@jupyter-widgets/base",
      "_view_module_version": "1.2.0",
      "_view_name": "LayoutView",
      "align_content": null,
      "align_items": null,
      "align_self": null,
      "border": null,
      "bottom": null,
      "display": null,
      "flex": null,
      "flex_flow": null,
      "grid_area": null,
      "grid_auto_columns": null,
      "grid_auto_flow": null,
      "grid_auto_rows": null,
      "grid_column": null,
      "grid_gap": null,
      "grid_row": null,
      "grid_template_areas": null,
      "grid_template_columns": null,
      "grid_template_rows": null,
      "height": null,
      "justify_content": null,
      "justify_items": null,
      "left": null,
      "margin": null,
      "max_height": null,
      "max_width": null,
      "min_height": null,
      "min_width": null,
      "object_fit": null,
      "object_position": null,
      "order": null,
      "overflow": null,
      "overflow_x": null,
      "overflow_y": null,
      "padding": null,
      "right": null,
      "top": null,
      "visibility": null,
      "width": null
     }
    },
    "e37fc3cf87b042d6bc7d0805632406af": {
     "model_module": "@jupyter-widgets/controls",
     "model_module_version": "1.5.0",
     "model_name": "HTMLModel",
     "state": {
      "_dom_classes": [],
      "_model_module": "@jupyter-widgets/controls",
      "_model_module_version": "1.5.0",
      "_model_name": "HTMLModel",
      "_view_count": null,
      "_view_module": "@jupyter-widgets/controls",
      "_view_module_version": "1.5.0",
      "_view_name": "HTMLView",
      "description": "",
      "description_tooltip": null,
      "layout": "IPY_MODEL_155bb15695444d429d17461339634457",
      "placeholder": "​",
      "style": "IPY_MODEL_071dba85ac654160a9d4b2aeb48ecbd6",
      "value": "Generate report structure: 100%"
     }
    },
    "f3d1744152ab4762b2129f5612232466": {
     "model_module": "@jupyter-widgets/base",
     "model_module_version": "1.2.0",
     "model_name": "LayoutModel",
     "state": {
      "_model_module": "@jupyter-widgets/base",
      "_model_module_version": "1.2.0",
      "_model_name": "LayoutModel",
      "_view_count": null,
      "_view_module": "@jupyter-widgets/base",
      "_view_module_version": "1.2.0",
      "_view_name": "LayoutView",
      "align_content": null,
      "align_items": null,
      "align_self": null,
      "border": null,
      "bottom": null,
      "display": null,
      "flex": null,
      "flex_flow": null,
      "grid_area": null,
      "grid_auto_columns": null,
      "grid_auto_flow": null,
      "grid_auto_rows": null,
      "grid_column": null,
      "grid_gap": null,
      "grid_row": null,
      "grid_template_areas": null,
      "grid_template_columns": null,
      "grid_template_rows": null,
      "height": null,
      "justify_content": null,
      "justify_items": null,
      "left": null,
      "margin": null,
      "max_height": null,
      "max_width": null,
      "min_height": null,
      "min_width": null,
      "object_fit": null,
      "object_position": null,
      "order": null,
      "overflow": null,
      "overflow_x": null,
      "overflow_y": null,
      "padding": null,
      "right": null,
      "top": null,
      "visibility": null,
      "width": null
     }
    },
    "fae3b5b8cea84da69122286f1fdb3a5c": {
     "model_module": "@jupyter-widgets/controls",
     "model_module_version": "1.5.0",
     "model_name": "DescriptionStyleModel",
     "state": {
      "_model_module": "@jupyter-widgets/controls",
      "_model_module_version": "1.5.0",
      "_model_name": "DescriptionStyleModel",
      "_view_count": null,
      "_view_module": "@jupyter-widgets/base",
      "_view_module_version": "1.2.0",
      "_view_name": "StyleView",
      "description_width": ""
     }
    },
    "ff01c62a01ea4933ae9b5703068b8edd": {
     "model_module": "@jupyter-widgets/base",
     "model_module_version": "1.2.0",
     "model_name": "LayoutModel",
     "state": {
      "_model_module": "@jupyter-widgets/base",
      "_model_module_version": "1.2.0",
      "_model_name": "LayoutModel",
      "_view_count": null,
      "_view_module": "@jupyter-widgets/base",
      "_view_module_version": "1.2.0",
      "_view_name": "LayoutView",
      "align_content": null,
      "align_items": null,
      "align_self": null,
      "border": null,
      "bottom": null,
      "display": null,
      "flex": null,
      "flex_flow": null,
      "grid_area": null,
      "grid_auto_columns": null,
      "grid_auto_flow": null,
      "grid_auto_rows": null,
      "grid_column": null,
      "grid_gap": null,
      "grid_row": null,
      "grid_template_areas": null,
      "grid_template_columns": null,
      "grid_template_rows": null,
      "height": null,
      "justify_content": null,
      "justify_items": null,
      "left": null,
      "margin": null,
      "max_height": null,
      "max_width": null,
      "min_height": null,
      "min_width": null,
      "object_fit": null,
      "object_position": null,
      "order": null,
      "overflow": null,
      "overflow_x": null,
      "overflow_y": null,
      "padding": null,
      "right": null,
      "top": null,
      "visibility": null,
      "width": null
     }
    }
   }
  }
 },
 "nbformat": 4,
 "nbformat_minor": 1
}
